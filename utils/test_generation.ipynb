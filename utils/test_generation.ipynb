{
 "cells": [
  {
   "cell_type": "code",
   "execution_count": 8,
   "metadata": {},
   "outputs": [
    {
     "ename": "UnicodeEncodeError",
     "evalue": "'latin-1' codec can't encode character '\\u2013' in position 266: ordinal not in range(256)",
     "output_type": "error",
     "traceback": [
      "\u001b[0;31m---------------------------------------------------------------------------\u001b[0m",
      "\u001b[0;31mUnicodeEncodeError\u001b[0m                        Traceback (most recent call last)",
      "Cell \u001b[0;32mIn[8], line 102\u001b[0m\n\u001b[1;32m    100\u001b[0m \u001b[38;5;66;03m# Guardar PDF\u001b[39;00m\n\u001b[1;32m    101\u001b[0m combined_plan_path \u001b[38;5;241m=\u001b[39m \u001b[38;5;124m\"\u001b[39m\u001b[38;5;124mPlan_Nutricion_Ejercicio_Personalizado.pdf\u001b[39m\u001b[38;5;124m\"\u001b[39m\n\u001b[0;32m--> 102\u001b[0m \u001b[43mcombined_pdf\u001b[49m\u001b[38;5;241;43m.\u001b[39;49m\u001b[43moutput\u001b[49m\u001b[43m(\u001b[49m\u001b[43mcombined_plan_path\u001b[49m\u001b[43m)\u001b[49m\n",
      "File \u001b[0;32m~/miniconda3/envs/tutoria/lib/python3.9/site-packages/fpdf/fpdf.py:1065\u001b[0m, in \u001b[0;36mFPDF.output\u001b[0;34m(self, name, dest)\u001b[0m\n\u001b[1;32m   1063\u001b[0m \u001b[38;5;66;03m#Finish document if necessary\u001b[39;00m\n\u001b[1;32m   1064\u001b[0m \u001b[38;5;28;01mif\u001b[39;00m(\u001b[38;5;28mself\u001b[39m\u001b[38;5;241m.\u001b[39mstate\u001b[38;5;241m<\u001b[39m\u001b[38;5;241m3\u001b[39m):\n\u001b[0;32m-> 1065\u001b[0m     \u001b[38;5;28;43mself\u001b[39;49m\u001b[38;5;241;43m.\u001b[39;49m\u001b[43mclose\u001b[49m\u001b[43m(\u001b[49m\u001b[43m)\u001b[49m\n\u001b[1;32m   1066\u001b[0m dest\u001b[38;5;241m=\u001b[39mdest\u001b[38;5;241m.\u001b[39mupper()\n\u001b[1;32m   1067\u001b[0m \u001b[38;5;28;01mif\u001b[39;00m(dest\u001b[38;5;241m==\u001b[39m\u001b[38;5;124m'\u001b[39m\u001b[38;5;124m'\u001b[39m):\n",
      "File \u001b[0;32m~/miniconda3/envs/tutoria/lib/python3.9/site-packages/fpdf/fpdf.py:246\u001b[0m, in \u001b[0;36mFPDF.close\u001b[0;34m(self)\u001b[0m\n\u001b[1;32m    244\u001b[0m \u001b[38;5;28mself\u001b[39m\u001b[38;5;241m.\u001b[39m_endpage()\n\u001b[1;32m    245\u001b[0m \u001b[38;5;66;03m#close document\u001b[39;00m\n\u001b[0;32m--> 246\u001b[0m \u001b[38;5;28;43mself\u001b[39;49m\u001b[38;5;241;43m.\u001b[39;49m\u001b[43m_enddoc\u001b[49m\u001b[43m(\u001b[49m\u001b[43m)\u001b[49m\n",
      "File \u001b[0;32m~/miniconda3/envs/tutoria/lib/python3.9/site-packages/fpdf/fpdf.py:1636\u001b[0m, in \u001b[0;36mFPDF._enddoc\u001b[0;34m(self)\u001b[0m\n\u001b[1;32m   1634\u001b[0m \u001b[38;5;28;01mdef\u001b[39;00m\u001b[38;5;250m \u001b[39m\u001b[38;5;21m_enddoc\u001b[39m(\u001b[38;5;28mself\u001b[39m):\n\u001b[1;32m   1635\u001b[0m     \u001b[38;5;28mself\u001b[39m\u001b[38;5;241m.\u001b[39m_putheader()\n\u001b[0;32m-> 1636\u001b[0m     \u001b[38;5;28;43mself\u001b[39;49m\u001b[38;5;241;43m.\u001b[39;49m\u001b[43m_putpages\u001b[49m\u001b[43m(\u001b[49m\u001b[43m)\u001b[49m\n\u001b[1;32m   1637\u001b[0m     \u001b[38;5;28mself\u001b[39m\u001b[38;5;241m.\u001b[39m_putresources()\n\u001b[1;32m   1638\u001b[0m     \u001b[38;5;66;03m#Info\u001b[39;00m\n",
      "File \u001b[0;32m~/miniconda3/envs/tutoria/lib/python3.9/site-packages/fpdf/fpdf.py:1170\u001b[0m, in \u001b[0;36mFPDF._putpages\u001b[0;34m(self)\u001b[0m\n\u001b[1;32m   1167\u001b[0m \u001b[38;5;66;03m#Page content\u001b[39;00m\n\u001b[1;32m   1168\u001b[0m \u001b[38;5;28;01mif\u001b[39;00m \u001b[38;5;28mself\u001b[39m\u001b[38;5;241m.\u001b[39mcompress:\n\u001b[1;32m   1169\u001b[0m     \u001b[38;5;66;03m# manage binary data as latin1 until PEP461 or similar is implemented\u001b[39;00m\n\u001b[0;32m-> 1170\u001b[0m     p \u001b[38;5;241m=\u001b[39m \u001b[38;5;28;43mself\u001b[39;49m\u001b[38;5;241;43m.\u001b[39;49m\u001b[43mpages\u001b[49m\u001b[43m[\u001b[49m\u001b[43mn\u001b[49m\u001b[43m]\u001b[49m\u001b[38;5;241;43m.\u001b[39;49m\u001b[43mencode\u001b[49m\u001b[43m(\u001b[49m\u001b[38;5;124;43m\"\u001b[39;49m\u001b[38;5;124;43mlatin1\u001b[39;49m\u001b[38;5;124;43m\"\u001b[39;49m\u001b[43m)\u001b[49m \u001b[38;5;28;01mif\u001b[39;00m PY3K \u001b[38;5;28;01melse\u001b[39;00m \u001b[38;5;28mself\u001b[39m\u001b[38;5;241m.\u001b[39mpages[n] \n\u001b[1;32m   1171\u001b[0m     p \u001b[38;5;241m=\u001b[39m zlib\u001b[38;5;241m.\u001b[39mcompress(p)\n\u001b[1;32m   1172\u001b[0m \u001b[38;5;28;01melse\u001b[39;00m:\n",
      "\u001b[0;31mUnicodeEncodeError\u001b[0m: 'latin-1' codec can't encode character '\\u2013' in position 266: ordinal not in range(256)"
     ]
    }
   ],
   "source": [
    "from fpdf import FPDF\n",
    "\n",
    "# Crear nuevo PDF que combine nutrición + ejercicio\n",
    "combined_pdf = FPDF()\n",
    "combined_pdf.add_page()\n",
    "combined_pdf.set_font(\"Arial\", \"B\", 14)\n",
    "combined_pdf.cell(0, 10, \"Plan Nutricional y de Entrenamiento Personalizado\", ln=True, align=\"C\")\n",
    "combined_pdf.ln(10)\n",
    "\n",
    "# Sección 1: Nutrición (resumen)\n",
    "combined_pdf.set_font(\"Arial\", \"B\", 12)\n",
    "combined_pdf.cell(0, 10, \"Resumen Nutricional:\", ln=True)\n",
    "combined_pdf.set_font(\"Arial\", \"\", 11)\n",
    "combined_pdf.multi_cell(0, 10, \"\"\"Edad: 28 años  |  Sexo: Hombre  |  Peso: 65 kg  |  Altura: 175 cm  |  Actividad: Ligera\n",
    "Objetivo: Ganancia muscular  |  Comidas al día: 4  |  Restricciones: No leche de vaca, no kiwi\n",
    "\n",
    "Calorías estimadas: 2600 kcal/día\n",
    "Distribución de macronutrientes:\n",
    "- Proteínas: ~145g (22%)\n",
    "- Carbohidratos: ~340g (52%)\n",
    "- Grasas: ~75g (26%)\"\"\")\n",
    "\n",
    "combined_pdf.ln(5)\n",
    "combined_pdf.set_font(\"Arial\", \"B\", 12)\n",
    "combined_pdf.cell(0, 10, \"Menú Semanal (ejemplo de 1 día):\", ln=True)\n",
    "combined_pdf.set_font(\"Arial\", \"\", 11)\n",
    "combined_pdf.multi_cell(0, 10, \"\"\"Desayuno:\n",
    "- 60g avena cocida con 250ml bebida vegetal (avena, soja o almendra)\n",
    "- 1 plátano\n",
    "- 1 huevo + 2 claras revueltos con espinacas\n",
    "- 15g mantequilla de cacahuete\n",
    "\n",
    "Almuerzo:\n",
    "- 150g pechuga de pollo a la plancha\n",
    "- 150g arroz integral\n",
    "- 100g verduras salteadas\n",
    "- 1 cucharada de aceite de oliva\n",
    "\n",
    "Merienda:\n",
    "- Yogur vegetal alto en proteína (150g) con 15g nueces y 1 cucharadita de miel\n",
    "- 1 pieza de fruta (manzana o pera)\n",
    "\n",
    "Cena:\n",
    "- 150g salmón a la plancha\n",
    "- 150g patata cocida o boniato\n",
    "- 100g brócoli al vapor\n",
    "- 30g aguacate\"\"\")\n",
    "\n",
    "# Sección 2: Entrenamiento\n",
    "combined_pdf.add_page()\n",
    "combined_pdf.set_font(\"Arial\", \"B\", 12)\n",
    "combined_pdf.cell(0, 10, \"Plan de Entrenamiento Semanal:\", ln=True)\n",
    "combined_pdf.set_font(\"Arial\", \"\", 11)\n",
    "combined_pdf.multi_cell(0, 10, \"\"\"Objetivo: Ganancia muscular | Nivel: Principiante/Intermedio | Duración: 5 días/semana\n",
    "\n",
    "Lunes – Pecho y Tríceps:\n",
    "- Press banca barra: 4x8-10\n",
    "- Press inclinado mancuerna: 3x10\n",
    "- Aperturas: 3x12\n",
    "- Fondos: 3x10\n",
    "- Tríceps en polea: 3x12\n",
    "\n",
    "Martes – Espalda y Bíceps:\n",
    "- Jalón al pecho: 4x10\n",
    "- Remo con barra: 3x10\n",
    "- Remo mancuerna: 3x12\n",
    "- Curl bíceps barra: 3x12\n",
    "- Curl alterno: 3x12\n",
    "\n",
    "Miércoles – Pierna y Abdomen:\n",
    "- Sentadilla libre: 4x8\n",
    "- Prensa: 3x12\n",
    "- Peso muerto rumano: 3x10\n",
    "- Zancadas: 3x12/pierna\n",
    "- Elevaciones de talón: 3x15\n",
    "\n",
    "Jueves – Descanso o Cardio Suave\n",
    "\n",
    "Viernes – Hombro + Core:\n",
    "- Press militar: 4x10\n",
    "- Elevaciones laterales: 3x12\n",
    "- Elevaciones frontales: 3x12\n",
    "- Pájaros: 3x12\n",
    "\n",
    "Sábado – Full body:\n",
    "- Sentadilla con press: 3x15\n",
    "- Burpees: 3x10\n",
    "- Dominadas asistidas: 3x8\n",
    "- Peso muerto mancuerna: 3x10\n",
    "\n",
    "Domingo – Descanso total\n",
    "\n",
    "Recomendaciones:\n",
    "- Calentar y estirar antes y después\n",
    "- 60-90s de descanso entre series\n",
    "- Aumentar cargas progresivamente\n",
    "- Hidratación: mínimo 2-2.5L/día\n",
    "- Opcional: proteína vegetal post-entreno, creatina monohidrato (3-5g/día)\"\"\")\n",
    "\n",
    "# Guardar PDF\n",
    "combined_plan_path = \"Plan_Nutricion_Ejercicio_Personalizado.pdf\"\n",
    "combined_pdf.output(combined_plan_path)\n"
   ]
  },
  {
   "cell_type": "code",
   "execution_count": 1,
   "metadata": {},
   "outputs": [],
   "source": [
    "# Get the current working directory\n",
    "import os\n",
    "current_dir = os.getcwd()\n",
    "\n",
    "# Change the working directory to the parent directory\n",
    "os.chdir(os.path.dirname(current_dir))\n",
    "\n"
   ]
  },
  {
   "cell_type": "code",
   "execution_count": 2,
   "metadata": {},
   "outputs": [],
   "source": [
    "from src.content_generator.app.controllers.quiz_controller import QuizController\n"
   ]
  },
  {
   "cell_type": "code",
   "execution_count": 3,
   "metadata": {},
   "outputs": [
    {
     "name": "stdout",
     "output_type": "stream",
     "text": [
      "tutoria\n",
      "2024-12-01-preview\n",
      "https://migue-majp46t4-eastus2.cognitiveservices.azure.com/openai/deployments/tutoria/chat/completions?api-version=2025-01-01-preview\n",
      "BzhvlybKBUJaq8htKaWqtoEs3ylJSpwWzBjtmMx2m4KwQfnpLhuMJQQJ99BEACHYHv6XJ3w3AAAAACOG7eOW\n",
      "<coroutine object QuizController.generate_quiz at 0x11618ad40>\n"
     ]
    }
   ],
   "source": [
    "controller = QuizController()\n",
    "\n",
    "quiz = controller.generate_quiz(topic=\"math\", difficulty=\"easy\", num_questions=5)\n",
    "\n",
    "print(quiz)\n",
    "\n"
   ]
  },
  {
   "cell_type": "code",
   "execution_count": 4,
   "metadata": {},
   "outputs": [
    {
     "data": {
      "text/plain": [
       "<coroutine object QuizController.generate_quiz at 0x11618ad40>"
      ]
     },
     "execution_count": 4,
     "metadata": {},
     "output_type": "execute_result"
    }
   ],
   "source": [
    "quiz."
   ]
  },
  {
   "cell_type": "code",
   "execution_count": null,
   "metadata": {},
   "outputs": [],
   "source": []
  }
 ],
 "metadata": {
  "kernelspec": {
   "display_name": "tutoria",
   "language": "python",
   "name": "python3"
  },
  "language_info": {
   "codemirror_mode": {
    "name": "ipython",
    "version": 3
   },
   "file_extension": ".py",
   "mimetype": "text/x-python",
   "name": "python",
   "nbconvert_exporter": "python",
   "pygments_lexer": "ipython3",
   "version": "3.9.0"
  }
 },
 "nbformat": 4,
 "nbformat_minor": 2
}
