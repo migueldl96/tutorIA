{
 "cells": [
  {
   "cell_type": "code",
   "execution_count": 1,
   "metadata": {},
   "outputs": [],
   "source": [
    "# Get the current working directory\n",
    "import os\n",
    "current_dir = os.getcwd()\n",
    "\n",
    "# Change the working directory to the parent directory\n",
    "os.chdir(os.path.dirname(current_dir))\n",
    "\n"
   ]
  },
  {
   "cell_type": "code",
   "execution_count": 2,
   "metadata": {},
   "outputs": [],
   "source": [
    "from src.content_generator.app.controllers.quiz_controller import QuizController\n"
   ]
  },
  {
   "cell_type": "code",
   "execution_count": 5,
   "metadata": {},
   "outputs": [
    {
     "name": "stdout",
     "output_type": "stream",
     "text": [
      "tutoria\n",
      "2024-12-01-preview\n",
      "https://migue-majp46t4-eastus2.cognitiveservices.azure.com/openai/deployments/tutoria/chat/completions?api-version=2025-01-01-preview\n",
      "BzhvlybKBUJaq8htKaWqtoEs3ylJSpwWzBjtmMx2m4KwQfnpLhuMJQQJ99BEACHYHv6XJ3w3AAAAACOG7eOW\n",
      "quiz=[QuizQuestion(question='Let f(x) = x^3 - 3x^2 + 2x. Find the value of x that gives the local minimum of f(x).', optionA='0', optionB='1', optionC='2', optionD='3', correct_answer='C', explanation=\"To find local minima, set the derivative f'(x) = 3x^2 - 6x + 2 = 0. Solve for x: 3x^2 - 6x + 2 = 0. The critical points are x = [6 ± sqrt(36 - 24)]/6 = [6 ± sqrt(12)]/6 = [6 ± 2sqrt(3)]/6 = 1 ± sqrt(3)/3. Evaluate the second derivative at these points or analyze the function to see that x = 2 is the location for the local minimum.\"), QuizQuestion(question='Evaluate the improper integral: ∫₀^∞ x e^{-x^2} dx.', optionA='1/2', optionB='1', optionC='0', optionD='∞', correct_answer='A', explanation='Let u = x^2 ⇒ du = 2x dx. The integral becomes (1/2)∫₀^∞ e^{-u} du = (1/2)[-e^{-u}]₀^∞ = (1/2)(0 - (-1)) = 1/2.'), QuizQuestion(question='Which of the following matrices is not diagonalizable over ℝ?', optionA='[[1,0],[0,2]]', optionB='[[0,1],[-1,0]]', optionC='[[2,1],[0,2]]', optionD='[[3,0],[0,3]]', correct_answer='B', explanation='The matrix [[0,1],[-1,0]] has complex eigenvalues (±i), not real eigenvalues, so it cannot be diagonalized over ℝ. All other options have real eigenvalues with sufficient eigenvectors.'), QuizQuestion(question='Let z = 2 - 2i. What is |z|^4?', optionA='64', optionB='16', optionC='32', optionD='8', correct_answer='A', explanation='|z| = sqrt(2^2 + (-2)^2) = sqrt(8) = 2√2. |z|^4 = (2√2)^4 = 16 * 4 = 64.'), QuizQuestion(question='The sum of the reciprocals of the roots of the polynomial x^3 - 6x^2 + 11x - 6 = 0 is:', optionA='1', optionB='6', optionC='11', optionD='0', correct_answer='B', explanation=\"Let roots be r, s, t. The sum of reciprocals is (1/r) + (1/s) + (1/t) = (rs + st + tr)/rst. From Vieta's formulas: rs + st + tr = 11 and rst = 6, so the sum is 11/6. But since total sum should be rs + rt + st/rst = 11/6 [Misreading here, correct value is: (rs + st + rt)/rst = sum of products of roots taken two at a time divided by product, which by Vieta gives 11/6]. Thus, the closest answer is 6 if all roots are 1,2,3 (which they are). The sum of reciprocals is 1/1 + 1/2 + 1/3 = 1 + 0.5 + 0.333... = 1.833... None exactly matching, but option B (6) is correct as per Vieta's usage if reciprocal sum = (sum of roots) / (product of roots) = 6/6 = 1. To clarify, the correct answer is actually 1, so option A is correct. The sum of reciprocals of the roots of a cubic, (sum of roots)/(product of roots) = 6/6 = 1.\")]\n"
     ]
    }
   ],
   "source": [
    "controller = QuizController()\n",
    "\n",
    "quiz = controller.generate_quiz(topic=\"math\", difficulty=\"expert\", num_questions=5)\n",
    "\n",
    "print(quiz)\n",
    "\n"
   ]
  },
  {
   "cell_type": "code",
   "execution_count": 10,
   "metadata": {},
   "outputs": [
    {
     "data": {
      "text/plain": [
       "QuizQuestion(question='Evaluate the improper integral: ∫₀^∞ x e^{-x^2} dx.', optionA='1/2', optionB='1', optionC='0', optionD='∞', correct_answer='A', explanation='Let u = x^2 ⇒ du = 2x dx. The integral becomes (1/2)∫₀^∞ e^{-u} du = (1/2)[-e^{-u}]₀^∞ = (1/2)(0 - (-1)) = 1/2.')"
      ]
     },
     "execution_count": 10,
     "metadata": {},
     "output_type": "execute_result"
    }
   ],
   "source": [
    "quiz.quiz[1]"
   ]
  },
  {
   "cell_type": "code",
   "execution_count": null,
   "metadata": {},
   "outputs": [],
   "source": []
  }
 ],
 "metadata": {
  "kernelspec": {
   "display_name": "tutoria",
   "language": "python",
   "name": "python3"
  },
  "language_info": {
   "codemirror_mode": {
    "name": "ipython",
    "version": 3
   },
   "file_extension": ".py",
   "mimetype": "text/x-python",
   "name": "python",
   "nbconvert_exporter": "python",
   "pygments_lexer": "ipython3",
   "version": "3.9.0"
  }
 },
 "nbformat": 4,
 "nbformat_minor": 2
}
