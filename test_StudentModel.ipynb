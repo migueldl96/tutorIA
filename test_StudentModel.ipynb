{
 "cells": [
  {
   "cell_type": "code",
   "execution_count": 1,
   "metadata": {},
   "outputs": [
    {
     "name": "stdout",
     "output_type": "stream",
     "text": [
      "   user_id skill_name  correct item_id  order_id\n",
      "0    alice  fractions        0       A         1\n",
      "1    alice  fractions        1       B         2\n",
      "2      bob  fractions        0       A         1\n",
      "3      bob  fractions        0       B         2\n",
      "4    alice  fractions        1       A         3\n",
      "5    alice  fractions        1       B         4\n",
      "6      bob  equations        1       A         1\n",
      "7      bob  equations        0       B         2\n",
      "8    alice  equations        0       A         1\n",
      "9    alice  equations        1       B         2\n",
      "10     bob  equations        1       A         3\n",
      "11     bob  equations        1       B         4\n"
     ]
    }
   ],
   "source": [
    "import pandas as pd\n",
    "from src.student_eval.app.evaluation import models\n",
    "df = pd.DataFrame({\n",
    "    'user_id'   : ['alice','alice','bob','bob']*3,\n",
    "    'skill_name': ['fractions']*6 + ['equations']*6,\n",
    "    'correct'   : [0,1,0,0,  1,1,  1,0,0,1,1,1],\n",
    "    'item_id'   : ['A','B','A','B']*3\n",
    "})\n",
    "df['order_id'] = df.groupby(['user_id','skill_name']).cumcount() + 1\n",
    "print(df)"
   ]
  },
  {
   "cell_type": "code",
   "execution_count": 2,
   "metadata": {},
   "outputs": [
    {
     "name": "stdout",
     "output_type": "stream",
     "text": [
      "{'alice': {'learns': {'maths': {'fractions': 0.14652593139873318, 'equations': 0.18204125937060714}}, 'forgets': {'maths': {'fractions': 0.0, 'equations': 0.0}}}, 'bob': {'learns': {'maths': {'fractions': 0.019449874721090995, 'equations': 0.7396777464125578}}, 'forgets': {'maths': {'fractions': 0.0, 'equations': 0.0}}}}\n",
      "{'maths': {'equations': {'prior': 0.0, 'learns': 0.6319302851430383, 'guesses': 0.43978393778233055, 'slips': 0.10386711708111339, 'forgets': 0.6411319366434435}, 'fractions': {'prior': 0.0, 'learns': 0.4881341320441835, 'guesses': 0.028452105443358067, 'slips': 0.08061901421240351, 'forgets': 0.006562922277734135}}}\n"
     ]
    }
   ],
   "source": [
    "user_id = df['user_id'].to_list()\n",
    "skill_name = df['skill_name'].to_list()\n",
    "correct = df['correct'].to_list()\n",
    "item_id = df['item_id'].to_list()\n",
    "order_id = df['order_id'].to_list()\n",
    "subject_id = [\"maths\"]*len(user_id)\n",
    "\n",
    "model=models.StudentModel()\n",
    "model.csv_path = \"data.csv\"\n",
    "model.model_path = \"model.pkl\"\n",
    "results = model.update_dataset(order_id=order_id,\n",
    "                               user_id=user_id,\n",
    "                               skill_name=skill_name,\n",
    "                               correct=correct,\n",
    "                               item_id=item_id,\n",
    "                               subject_id=subject_id)\n",
    "print(results[\"students_states\"])\n",
    "print(results[\"skills_states\"])"
   ]
  },
  {
   "cell_type": "code",
   "execution_count": 3,
   "metadata": {},
   "outputs": [
    {
     "name": "stdout",
     "output_type": "stream",
     "text": [
      "{'alice': {'learns': {'maths': {'fractions': 0.14652593139873318, 'equations': 0.18204125937060714}, 'physics': {'optics': 0.03837908905107387}}, 'forgets': {'maths': {'fractions': 0.0, 'equations': 0.0}, 'physics': {'optics': 0.0}}}, 'bob': {'learns': {'maths': {'fractions': 0.019449874721090995, 'equations': 0.7396777464125578}}, 'forgets': {'maths': {'fractions': 0.0, 'equations': 0.0}}}, 'carlos': {'learns': {'physics': {'optics': 0.0304148235019519}}, 'forgets': {'physics': {'optics': 0.0}}}}\n",
      "{'maths': {'equations': {'prior': 0.0, 'learns': 0.6319302851430383, 'guesses': 0.43978393778233055, 'slips': 0.10386711708111339, 'forgets': 0.6411319366434435}, 'fractions': {'prior': 0.0, 'learns': 0.4881341320441835, 'guesses': 0.028452105443358067, 'slips': 0.08061901421240351, 'forgets': 0.006562922277734135}}, 'physics': {'optics': {'prior': 0.0, 'learns': 0.01107315572712013, 'guesses': 0.6625575960752863, 'slips': 0.19279985022977425, 'forgets': 0.8127535932273806}}}\n"
     ]
    }
   ],
   "source": [
    "order_id = [1, 2, 1]\n",
    "skill_name = [\"optics\", \"optics\", \"optics\"]\n",
    "user_id = [\"carlos\", \"carlos\", \"alice\"]\n",
    "item_id = [\"A\", \"B\", \"A\"]        \n",
    "        # Ponemos tema a cada asignatura\n",
    "correct = [1, 0, 1]\n",
    "subject_id = [\"physics\"]*len(user_id)\n",
    "results = model.update_dataset(order_id=order_id,\n",
    "                               user_id=user_id,\n",
    "                               skill_name=skill_name,\n",
    "                               correct=correct,\n",
    "                               item_id=item_id,\n",
    "                               subject_id=subject_id)\n",
    "print(results[\"students_states\"])\n",
    "print(results[\"skills_states\"])"
   ]
  },
  {
   "cell_type": "code",
   "execution_count": 6,
   "metadata": {},
   "outputs": [],
   "source": [
    "from pyBKT.models import Model, Roster"
   ]
  },
  {
   "cell_type": "code",
   "execution_count": 7,
   "metadata": {},
   "outputs": [],
   "source": [
    "real_model = model.student_model\n",
    "real_model.save(\"model2.pkl\")\n",
    "import pickle\n",
    "with open(\"model2.pkl\", \"rb\") as f:\n",
    "    real_model_loaded = pickle.load(f)"
   ]
  },
  {
   "cell_type": "code",
   "execution_count": 11,
   "metadata": {},
   "outputs": [
    {
     "name": "stdout",
     "output_type": "stream",
     "text": [
      "State(StateType.UNMASTERED, {'correct_prediction': 0.028452105443358067, 'state_prediction': 0.0}, Roster(...))\n",
      "State(StateType.UNMASTERED, {'correct_prediction': 0.028452105443358067, 'state_prediction': 0.0}, Roster(...))\n",
      "State(StateType.UNMASTERED, {'correct_prediction': 0.4633449011632891, 'state_prediction': 0.4881341320441835}, Roster(...))\n",
      "State(StateType.UNMASTERED, {'correct_prediction': 0.4633449011632891, 'state_prediction': 0.4881341320441835}, Roster(...))\n",
      "State(StateType.UNMASTERED, {'correct_prediction': 0.4633449011632891, 'state_prediction': 0.4881341320441835}, Roster(...))\n",
      "State(StateType.UNMASTERED, {'correct_prediction': 0.6625575960752863, 'state_prediction': 0.0}, Roster(...))\n",
      "UNMASTERED\n",
      "0.4881341320441835\n",
      "0.4633449011632891\n"
     ]
    }
   ],
   "source": [
    "roster = Roster(students=[\"alice\", \"bob\"], skills =[\"fractions\",\"optics\"] , model=real_model)\n",
    "roster_loaded = Roster(students=[\"alice\", \"bob\"], skills =[\"fractions\",\"optics\"] , model=real_model_loaded)\n",
    "print(roster.get_state(\"fractions\", \"alice\"))\n",
    "print(roster_loaded.get_state(\"fractions\", \"alice\"))\n",
    "print(roster.update_state(\"fractions\", \"alice\", 1))\n",
    "print(roster_loaded.update_state(\"fractions\", \"alice\", 1))\n",
    "state = roster.get_state(\"fractions\", \"alice\")\n",
    "print(roster_loaded.get_state(\"fractions\", \"alice\"))\n",
    "# Guardamos en pickle\n",
    "import pickle\n",
    "with open(\"roaster_model.pkl\", \"wb\") as f:\n",
    "    pickle.dump(roster, f)\n",
    "# Cargamos el modelo\n",
    "with open(\"roaster_model.pkl\", \"rb\") as f:\n",
    "    loaded_roster = pickle.load(f)\n",
    "print(loaded_roster.get_state(\"optics\", \"alice\"))\n",
    "print(state.state_type.name)\n",
    "print(state.current_state[\"state_prediction\"])\n",
    "print(state.current_state[\"correct_prediction\"])\n"
   ]
  }
 ],
 "metadata": {
  "kernelspec": {
   "display_name": "tutorIA",
   "language": "python",
   "name": "python3"
  },
  "language_info": {
   "codemirror_mode": {
    "name": "ipython",
    "version": 3
   },
   "file_extension": ".py",
   "mimetype": "text/x-python",
   "name": "python",
   "nbconvert_exporter": "python",
   "pygments_lexer": "ipython3",
   "version": "3.7.16"
  }
 },
 "nbformat": 4,
 "nbformat_minor": 2
}
