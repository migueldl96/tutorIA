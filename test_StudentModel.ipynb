{
 "cells": [
  {
   "cell_type": "code",
   "execution_count": 5,
   "metadata": {},
   "outputs": [
    {
     "name": "stdout",
     "output_type": "stream",
     "text": [
      "   user_id skill_name  correct item_id  order_id\n",
      "0    alice  fractions        0       A         1\n",
      "1    alice  fractions        1       B         2\n",
      "2      bob  fractions        0       A         1\n",
      "3      bob  fractions        0       B         2\n",
      "4    alice  fractions        1       A         3\n",
      "5    alice  fractions        1       B         4\n",
      "6      bob  equations        1       A         1\n",
      "7      bob  equations        0       B         2\n",
      "8    alice  equations        0       A         1\n",
      "9    alice  equations        1       B         2\n",
      "10     bob  equations        1       A         3\n",
      "11     bob  equations        1       B         4\n"
     ]
    }
   ],
   "source": [
    "import pandas as pd\n",
    "from src.student_eval.app.evaluation import models\n",
    "df = pd.DataFrame({\n",
    "    'user_id'   : ['alice','alice','bob','bob']*3,\n",
    "    'skill_name': ['fractions']*6 + ['equations']*6,\n",
    "    'correct'   : [0,1,0,0,  1,1,  1,0,0,1,1,1],\n",
    "    'item_id'   : ['A','B','A','B']*3\n",
    "})\n",
    "df['order_id'] = df.groupby(['user_id','skill_name']).cumcount() + 1\n",
    "print(df)"
   ]
  },
  {
   "cell_type": "code",
   "execution_count": 6,
   "metadata": {},
   "outputs": [
    {
     "name": "stdout",
     "output_type": "stream",
     "text": [
      "  user_id  equations_learn  fractions_learn  equations_forget  \\\n",
      "1   alice          0.18204          0.14653           0.00000   \n",
      "2     bob          0.73968          0.01945           0.00000   \n",
      "\n",
      "   fractions_forget  \n",
      "1           0.00000  \n",
      "2           0.00000  \n",
      "       skill   prior  learns  guesses   slips  forgets\n",
      "0  equations 0.00000 0.63193  0.43978 0.10387  0.64113\n",
      "1  fractions 0.00000 0.48813  0.02845 0.08062  0.00656\n"
     ]
    }
   ],
   "source": [
    "user_id = df['user_id'].to_list()\n",
    "skill_name = df['skill_name'].to_list()\n",
    "correct = df['correct'].to_list()\n",
    "item_id = df['item_id'].to_list()\n",
    "order_id = df['order_id'].to_list()\n",
    "\n",
    "model=models.StudentModel()\n",
    "model.csv_path = \"data.csv\"\n",
    "model.model_path = \"model.pkl\"\n",
    "results = model.update_dataset(order_id, user_id, skill_name, correct, item_id)\n",
    "print(results[\"students_states\"])\n",
    "print(results[\"skills_states\"])"
   ]
  },
  {
   "cell_type": "code",
   "execution_count": 7,
   "metadata": {},
   "outputs": [
    {
     "name": "stdout",
     "output_type": "stream",
     "text": [
      "  user_id  equations_learn  fractions_learn  inequalities_learn  \\\n",
      "1   alice          0.18204          0.14653             0.03838   \n",
      "2     bob          0.73968          0.01945                 NaN   \n",
      "3  carlos              NaN              NaN             0.03041   \n",
      "\n",
      "   equations_forget  fractions_forget  inequalities_forget  \n",
      "1           0.00000           0.00000              0.00000  \n",
      "2           0.00000           0.00000                  NaN  \n",
      "3               NaN               NaN              0.00000  \n",
      "          skill   prior  learns  guesses   slips  forgets\n",
      "0     equations 0.00000 0.63193  0.43978 0.10387  0.64113\n",
      "1     fractions 0.00000 0.48813  0.02845 0.08062  0.00656\n",
      "2  inequalities 0.00000 0.01107  0.66256 0.19280  0.81275\n"
     ]
    }
   ],
   "source": [
    "order_id = [1, 2, 1]\n",
    "skill_name = [\"inequalities\", \"inequalities\", \"inequalities\"]\n",
    "user_id = [\"carlos\", \"carlos\", \"alice\"]\n",
    "item_id = [\"A\", \"B\", \"A\"]\n",
    "correct = [1, 0, 1]\n",
    "results = model.update_dataset(order_id, user_id, skill_name, correct, item_id)\n",
    "print(results[\"students_states\"])\n",
    "print(results[\"skills_states\"])"
   ]
  }
 ],
 "metadata": {
  "kernelspec": {
   "display_name": "tutorIA",
   "language": "python",
   "name": "python3"
  },
  "language_info": {
   "codemirror_mode": {
    "name": "ipython",
    "version": 3
   },
   "file_extension": ".py",
   "mimetype": "text/x-python",
   "name": "python",
   "nbconvert_exporter": "python",
   "pygments_lexer": "ipython3",
   "version": "3.7.16"
  }
 },
 "nbformat": 4,
 "nbformat_minor": 2
}
