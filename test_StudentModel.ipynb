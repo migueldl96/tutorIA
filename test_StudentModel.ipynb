{
 "cells": [
  {
   "cell_type": "code",
   "execution_count": 1,
   "metadata": {},
   "outputs": [
    {
     "ename": "ImportError",
     "evalue": "cannot import name 'TypedDict' from 'typing' (/home/olmo/miniconda3/envs/tutorIA/lib/python3.7/typing.py)",
     "output_type": "error",
     "traceback": [
      "\u001b[0;31m---------------------------------------------------------------------------\u001b[0m",
      "\u001b[0;31mImportError\u001b[0m                               Traceback (most recent call last)",
      "\u001b[0;32m/tmp/ipykernel_817906/1834710051.py\u001b[0m in \u001b[0;36m<module>\u001b[0;34m\u001b[0m\n\u001b[1;32m      1\u001b[0m \u001b[0;32mimport\u001b[0m \u001b[0mpandas\u001b[0m \u001b[0;32mas\u001b[0m \u001b[0mpd\u001b[0m\u001b[0;34m\u001b[0m\u001b[0;34m\u001b[0m\u001b[0m\n\u001b[0;32m----> 2\u001b[0;31m \u001b[0;32mfrom\u001b[0m \u001b[0msrc\u001b[0m\u001b[0;34m.\u001b[0m\u001b[0mstudent_eval\u001b[0m\u001b[0;34m.\u001b[0m\u001b[0mapp\u001b[0m\u001b[0;34m.\u001b[0m\u001b[0mevaluation\u001b[0m \u001b[0;32mimport\u001b[0m \u001b[0mmodels\u001b[0m\u001b[0;34m\u001b[0m\u001b[0;34m\u001b[0m\u001b[0m\n\u001b[0m\u001b[1;32m      3\u001b[0m df = pd.DataFrame({\n\u001b[1;32m      4\u001b[0m     \u001b[0;34m'user_id'\u001b[0m   \u001b[0;34m:\u001b[0m \u001b[0;34m[\u001b[0m\u001b[0;34m'alice'\u001b[0m\u001b[0;34m,\u001b[0m\u001b[0;34m'alice'\u001b[0m\u001b[0;34m,\u001b[0m\u001b[0;34m'bob'\u001b[0m\u001b[0;34m,\u001b[0m\u001b[0;34m'bob'\u001b[0m\u001b[0;34m]\u001b[0m\u001b[0;34m*\u001b[0m\u001b[0;36m3\u001b[0m\u001b[0;34m,\u001b[0m\u001b[0;34m\u001b[0m\u001b[0;34m\u001b[0m\u001b[0m\n\u001b[1;32m      5\u001b[0m     \u001b[0;34m'skill_name'\u001b[0m\u001b[0;34m:\u001b[0m \u001b[0;34m[\u001b[0m\u001b[0;34m'fractions'\u001b[0m\u001b[0;34m]\u001b[0m\u001b[0;34m*\u001b[0m\u001b[0;36m6\u001b[0m \u001b[0;34m+\u001b[0m \u001b[0;34m[\u001b[0m\u001b[0;34m'equations'\u001b[0m\u001b[0;34m]\u001b[0m\u001b[0;34m*\u001b[0m\u001b[0;36m6\u001b[0m\u001b[0;34m,\u001b[0m\u001b[0;34m\u001b[0m\u001b[0;34m\u001b[0m\u001b[0m\n",
      "\u001b[0;32m~/Documentos/Hackaton/tutorIA/src/student_eval/app/evaluation/models.py\u001b[0m in \u001b[0;36m<module>\u001b[0;34m\u001b[0m\n\u001b[1;32m      1\u001b[0m \u001b[0;32mimport\u001b[0m \u001b[0mlogging\u001b[0m\u001b[0;34m\u001b[0m\u001b[0;34m\u001b[0m\u001b[0m\n\u001b[0;32m----> 2\u001b[0;31m \u001b[0;32mfrom\u001b[0m \u001b[0mtyping\u001b[0m \u001b[0;32mimport\u001b[0m \u001b[0mDict\u001b[0m\u001b[0;34m,\u001b[0m \u001b[0mDefaultDict\u001b[0m\u001b[0;34m,\u001b[0m \u001b[0mList\u001b[0m\u001b[0;34m,\u001b[0m \u001b[0mTypedDict\u001b[0m\u001b[0;34m\u001b[0m\u001b[0;34m\u001b[0m\u001b[0m\n\u001b[0m\u001b[1;32m      3\u001b[0m \u001b[0;32mfrom\u001b[0m \u001b[0mcollections\u001b[0m \u001b[0;32mimport\u001b[0m \u001b[0mdefaultdict\u001b[0m\u001b[0;34m\u001b[0m\u001b[0;34m\u001b[0m\u001b[0m\n\u001b[1;32m      4\u001b[0m \u001b[0;32mimport\u001b[0m \u001b[0mpandas\u001b[0m \u001b[0;32mas\u001b[0m \u001b[0mpd\u001b[0m\u001b[0;34m\u001b[0m\u001b[0;34m\u001b[0m\u001b[0m\n\u001b[1;32m      5\u001b[0m \u001b[0;32mfrom\u001b[0m \u001b[0mpyBKT\u001b[0m\u001b[0;34m.\u001b[0m\u001b[0mmodels\u001b[0m \u001b[0;32mimport\u001b[0m \u001b[0mModel\u001b[0m\u001b[0;34m,\u001b[0m \u001b[0mRoster\u001b[0m\u001b[0;34m\u001b[0m\u001b[0;34m\u001b[0m\u001b[0m\n",
      "\u001b[0;31mImportError\u001b[0m: cannot import name 'TypedDict' from 'typing' (/home/olmo/miniconda3/envs/tutorIA/lib/python3.7/typing.py)"
     ]
    }
   ],
   "source": [
    "import pandas as pd\n",
    "from src.student_eval.app.evaluation import models\n",
    "df = pd.DataFrame({\n",
    "    'user_id'   : ['alice','alice','bob','bob']*3,\n",
    "    'skill_name': ['fractions']*6 + ['equations']*6,\n",
    "    'correct'   : [0,1,0,0,  1,1,  1,0,0,1,1,1],\n",
    "    'item_id'   : ['A','B','A','B']*3\n",
    "})\n",
    "df['order_id'] = df.groupby(['user_id','skill_name']).cumcount() + 1\n",
    "print(df)"
   ]
  },
  {
   "cell_type": "code",
   "execution_count": 2,
   "metadata": {},
   "outputs": [
    {
     "name": "stdout",
     "output_type": "stream",
     "text": [
      "{'alice': {'learns': {'maths': {'fractions': 0.14652593139873318, 'equations': 0.18204125937060714}}, 'forgets': {'maths': {'fractions': 0.0, 'equations': 0.0}}}, 'bob': {'learns': {'maths': {'fractions': 0.019449874721090995, 'equations': 0.7396777464125578}}, 'forgets': {'maths': {'fractions': 0.0, 'equations': 0.0}}}}\n",
      "{'maths': {'equations': {'prior': 0.0, 'learns': 0.6319302851430383, 'guesses': 0.43978393778233055, 'slips': 0.10386711708111339, 'forgets': 0.6411319366434435}, 'fractions': {'prior': 0.0, 'learns': 0.4881341320441835, 'guesses': 0.028452105443358067, 'slips': 0.08061901421240351, 'forgets': 0.006562922277734135}}}\n"
     ]
    }
   ],
   "source": [
    "user_id = df['user_id'].to_list()\n",
    "skill_name = df['skill_name'].to_list()\n",
    "correct = df['correct'].to_list()\n",
    "item_id = df['item_id'].to_list()\n",
    "order_id = df['order_id'].to_list()\n",
    "subject_id = [\"maths\"]*len(user_id)\n",
    "\n",
    "model=models.StudentModel()\n",
    "model.csv_path = \"data.csv\"\n",
    "model.model_path = \"model.pkl\"\n",
    "results = model.update_dataset(order_id=order_id,\n",
    "                               user_id=user_id,\n",
    "                               skill_name=skill_name,\n",
    "                               correct=correct,\n",
    "                               item_id=item_id,\n",
    "                               subject_id=subject_id)\n",
    "print(results[\"students_states\"])\n",
    "print(results[\"skills_states\"])"
   ]
  },
  {
   "cell_type": "code",
   "execution_count": 3,
   "metadata": {},
   "outputs": [
    {
     "name": "stdout",
     "output_type": "stream",
     "text": [
      "{'alice': {'learns': {'maths': {'fractions': 0.14652593139873318, 'equations': 0.18204125937060714}, 'physics': {'optics': 0.03837908905107387}}, 'forgets': {'maths': {'fractions': 0.0, 'equations': 0.0}, 'physics': {'optics': 0.0}}}, 'bob': {'learns': {'maths': {'fractions': 0.019449874721090995, 'equations': 0.7396777464125578}}, 'forgets': {'maths': {'fractions': 0.0, 'equations': 0.0}}}, 'carlos': {'learns': {'physics': {'optics': 0.0304148235019519}}, 'forgets': {'physics': {'optics': 0.0}}}}\n",
      "{'maths': {'equations': {'prior': 0.0, 'learns': 0.6319302851430383, 'guesses': 0.43978393778233055, 'slips': 0.10386711708111339, 'forgets': 0.6411319366434435}, 'fractions': {'prior': 0.0, 'learns': 0.4881341320441835, 'guesses': 0.028452105443358067, 'slips': 0.08061901421240351, 'forgets': 0.006562922277734135}}, 'physics': {'optics': {'prior': 0.0, 'learns': 0.01107315572712013, 'guesses': 0.6625575960752863, 'slips': 0.19279985022977425, 'forgets': 0.8127535932273806}}}\n"
     ]
    }
   ],
   "source": [
    "order_id = [1, 2, 1]\n",
    "skill_name = [\"optics\", \"optics\", \"optics\"]\n",
    "user_id = [\"carlos\", \"carlos\", \"alice\"]\n",
    "item_id = [\"A\", \"B\", \"A\"]        \n",
    "        # Ponemos tema a cada asignatura\n",
    "correct = [1, 0, 1]\n",
    "subject_id = [\"physics\"]*len(user_id)\n",
    "results = model.update_dataset(order_id=order_id,\n",
    "                               user_id=user_id,\n",
    "                               skill_name=skill_name,\n",
    "                               correct=correct,\n",
    "                               item_id=item_id,\n",
    "                               subject_id=subject_id)\n",
    "print(results[\"students_states\"])\n",
    "print(results[\"skills_states\"])"
   ]
  },
  {
   "cell_type": "code",
   "execution_count": 6,
   "metadata": {},
   "outputs": [],
   "source": [
    "from pyBKT.models import Model, Roster"
   ]
  },
  {
   "cell_type": "code",
   "execution_count": 7,
   "metadata": {},
   "outputs": [],
   "source": [
    "real_model = model.student_model\n",
    "real_model.save(\"model2.pkl\")\n",
    "import pickle\n",
    "with open(\"model2.pkl\", \"rb\") as f:\n",
    "    real_model_loaded = pickle.load(f)"
   ]
  },
  {
   "cell_type": "code",
   "execution_count": 2,
   "metadata": {},
   "outputs": [
    {
     "ename": "ValueError",
     "evalue": "If using all scalar values, you must pass an index",
     "output_type": "error",
     "traceback": [
      "\u001b[0;31m---------------------------------------------------------------------------\u001b[0m",
      "\u001b[0;31mValueError\u001b[0m                                Traceback (most recent call last)",
      "\u001b[0;32m/tmp/ipykernel_7867/4289430285.py\u001b[0m in \u001b[0;36m<module>\u001b[0;34m\u001b[0m\n\u001b[1;32m      1\u001b[0m \u001b[0;32mimport\u001b[0m \u001b[0mpandas\u001b[0m \u001b[0;32mas\u001b[0m \u001b[0mpd\u001b[0m\u001b[0;34m\u001b[0m\u001b[0;34m\u001b[0m\u001b[0m\n\u001b[1;32m      2\u001b[0m \u001b[0mdicti\u001b[0m \u001b[0;34m=\u001b[0m \u001b[0;34m{\u001b[0m\u001b[0;34m\"order_id\"\u001b[0m\u001b[0;34m:\u001b[0m\u001b[0;36m10\u001b[0m\u001b[0;34m,\u001b[0m \u001b[0;34m\"user_id\"\u001b[0m\u001b[0;34m:\u001b[0m\u001b[0;34m\"alice\"\u001b[0m\u001b[0;34m,\u001b[0m \u001b[0;34m\"skill_name\"\u001b[0m\u001b[0;34m:\u001b[0m\u001b[0;34m\"fractions\"\u001b[0m\u001b[0;34m,\u001b[0m\u001b[0;34m\"correct\"\u001b[0m\u001b[0;34m:\u001b[0m\u001b[0;36m1\u001b[0m\u001b[0;34m,\u001b[0m\u001b[0;34m\"item_id\"\u001b[0m\u001b[0;34m:\u001b[0m\u001b[0;34m\"Q1\"\u001b[0m\u001b[0;34m,\u001b[0m\u001b[0;34m\"subject_id\"\u001b[0m\u001b[0;34m:\u001b[0m\u001b[0;34m\"MATH\"\u001b[0m\u001b[0;34m}\u001b[0m\u001b[0;34m\u001b[0m\u001b[0;34m\u001b[0m\u001b[0m\n\u001b[0;32m----> 3\u001b[0;31m \u001b[0mdf\u001b[0m \u001b[0;34m=\u001b[0m \u001b[0mpd\u001b[0m\u001b[0;34m.\u001b[0m\u001b[0mDataFrame\u001b[0m\u001b[0;34m(\u001b[0m\u001b[0mdicti\u001b[0m\u001b[0;34m)\u001b[0m\u001b[0;34m\u001b[0m\u001b[0;34m\u001b[0m\u001b[0m\n\u001b[0m",
      "\u001b[0;32m~/miniconda3/envs/tutorIA/lib/python3.7/site-packages/pandas/core/frame.py\u001b[0m in \u001b[0;36m__init__\u001b[0;34m(self, data, index, columns, dtype, copy)\u001b[0m\n\u001b[1;32m    612\u001b[0m         \u001b[0;32melif\u001b[0m \u001b[0misinstance\u001b[0m\u001b[0;34m(\u001b[0m\u001b[0mdata\u001b[0m\u001b[0;34m,\u001b[0m \u001b[0mdict\u001b[0m\u001b[0;34m)\u001b[0m\u001b[0;34m:\u001b[0m\u001b[0;34m\u001b[0m\u001b[0;34m\u001b[0m\u001b[0m\n\u001b[1;32m    613\u001b[0m             \u001b[0;31m# GH#38939 de facto copy defaults to False only in non-dict cases\u001b[0m\u001b[0;34m\u001b[0m\u001b[0;34m\u001b[0m\u001b[0;34m\u001b[0m\u001b[0m\n\u001b[0;32m--> 614\u001b[0;31m             \u001b[0mmgr\u001b[0m \u001b[0;34m=\u001b[0m \u001b[0mdict_to_mgr\u001b[0m\u001b[0;34m(\u001b[0m\u001b[0mdata\u001b[0m\u001b[0;34m,\u001b[0m \u001b[0mindex\u001b[0m\u001b[0;34m,\u001b[0m \u001b[0mcolumns\u001b[0m\u001b[0;34m,\u001b[0m \u001b[0mdtype\u001b[0m\u001b[0;34m=\u001b[0m\u001b[0mdtype\u001b[0m\u001b[0;34m,\u001b[0m \u001b[0mcopy\u001b[0m\u001b[0;34m=\u001b[0m\u001b[0mcopy\u001b[0m\u001b[0;34m,\u001b[0m \u001b[0mtyp\u001b[0m\u001b[0;34m=\u001b[0m\u001b[0mmanager\u001b[0m\u001b[0;34m)\u001b[0m\u001b[0;34m\u001b[0m\u001b[0;34m\u001b[0m\u001b[0m\n\u001b[0m\u001b[1;32m    615\u001b[0m         \u001b[0;32melif\u001b[0m \u001b[0misinstance\u001b[0m\u001b[0;34m(\u001b[0m\u001b[0mdata\u001b[0m\u001b[0;34m,\u001b[0m \u001b[0mma\u001b[0m\u001b[0;34m.\u001b[0m\u001b[0mMaskedArray\u001b[0m\u001b[0;34m)\u001b[0m\u001b[0;34m:\u001b[0m\u001b[0;34m\u001b[0m\u001b[0;34m\u001b[0m\u001b[0m\n\u001b[1;32m    616\u001b[0m             \u001b[0;32mimport\u001b[0m \u001b[0mnumpy\u001b[0m\u001b[0;34m.\u001b[0m\u001b[0mma\u001b[0m\u001b[0;34m.\u001b[0m\u001b[0mmrecords\u001b[0m \u001b[0;32mas\u001b[0m \u001b[0mmrecords\u001b[0m\u001b[0;34m\u001b[0m\u001b[0;34m\u001b[0m\u001b[0m\n",
      "\u001b[0;32m~/miniconda3/envs/tutorIA/lib/python3.7/site-packages/pandas/core/internals/construction.py\u001b[0m in \u001b[0;36mdict_to_mgr\u001b[0;34m(data, index, columns, dtype, typ, copy)\u001b[0m\n\u001b[1;32m    463\u001b[0m \u001b[0;34m\u001b[0m\u001b[0m\n\u001b[1;32m    464\u001b[0m     return arrays_to_mgr(\n\u001b[0;32m--> 465\u001b[0;31m         \u001b[0marrays\u001b[0m\u001b[0;34m,\u001b[0m \u001b[0mdata_names\u001b[0m\u001b[0;34m,\u001b[0m \u001b[0mindex\u001b[0m\u001b[0;34m,\u001b[0m \u001b[0mcolumns\u001b[0m\u001b[0;34m,\u001b[0m \u001b[0mdtype\u001b[0m\u001b[0;34m=\u001b[0m\u001b[0mdtype\u001b[0m\u001b[0;34m,\u001b[0m \u001b[0mtyp\u001b[0m\u001b[0;34m=\u001b[0m\u001b[0mtyp\u001b[0m\u001b[0;34m,\u001b[0m \u001b[0mconsolidate\u001b[0m\u001b[0;34m=\u001b[0m\u001b[0mcopy\u001b[0m\u001b[0;34m\u001b[0m\u001b[0;34m\u001b[0m\u001b[0m\n\u001b[0m\u001b[1;32m    466\u001b[0m     )\n\u001b[1;32m    467\u001b[0m \u001b[0;34m\u001b[0m\u001b[0m\n",
      "\u001b[0;32m~/miniconda3/envs/tutorIA/lib/python3.7/site-packages/pandas/core/internals/construction.py\u001b[0m in \u001b[0;36marrays_to_mgr\u001b[0;34m(arrays, arr_names, index, columns, dtype, verify_integrity, typ, consolidate)\u001b[0m\n\u001b[1;32m    117\u001b[0m         \u001b[0;31m# figure out the index, if necessary\u001b[0m\u001b[0;34m\u001b[0m\u001b[0;34m\u001b[0m\u001b[0;34m\u001b[0m\u001b[0m\n\u001b[1;32m    118\u001b[0m         \u001b[0;32mif\u001b[0m \u001b[0mindex\u001b[0m \u001b[0;32mis\u001b[0m \u001b[0;32mNone\u001b[0m\u001b[0;34m:\u001b[0m\u001b[0;34m\u001b[0m\u001b[0;34m\u001b[0m\u001b[0m\n\u001b[0;32m--> 119\u001b[0;31m             \u001b[0mindex\u001b[0m \u001b[0;34m=\u001b[0m \u001b[0m_extract_index\u001b[0m\u001b[0;34m(\u001b[0m\u001b[0marrays\u001b[0m\u001b[0;34m)\u001b[0m\u001b[0;34m\u001b[0m\u001b[0;34m\u001b[0m\u001b[0m\n\u001b[0m\u001b[1;32m    120\u001b[0m         \u001b[0;32melse\u001b[0m\u001b[0;34m:\u001b[0m\u001b[0;34m\u001b[0m\u001b[0;34m\u001b[0m\u001b[0m\n\u001b[1;32m    121\u001b[0m             \u001b[0mindex\u001b[0m \u001b[0;34m=\u001b[0m \u001b[0mensure_index\u001b[0m\u001b[0;34m(\u001b[0m\u001b[0mindex\u001b[0m\u001b[0;34m)\u001b[0m\u001b[0;34m\u001b[0m\u001b[0;34m\u001b[0m\u001b[0m\n",
      "\u001b[0;32m~/miniconda3/envs/tutorIA/lib/python3.7/site-packages/pandas/core/internals/construction.py\u001b[0m in \u001b[0;36m_extract_index\u001b[0;34m(data)\u001b[0m\n\u001b[1;32m    623\u001b[0m \u001b[0;34m\u001b[0m\u001b[0m\n\u001b[1;32m    624\u001b[0m         \u001b[0;32mif\u001b[0m \u001b[0;32mnot\u001b[0m \u001b[0mindexes\u001b[0m \u001b[0;32mand\u001b[0m \u001b[0;32mnot\u001b[0m \u001b[0mraw_lengths\u001b[0m\u001b[0;34m:\u001b[0m\u001b[0;34m\u001b[0m\u001b[0;34m\u001b[0m\u001b[0m\n\u001b[0;32m--> 625\u001b[0;31m             \u001b[0;32mraise\u001b[0m \u001b[0mValueError\u001b[0m\u001b[0;34m(\u001b[0m\u001b[0;34m\"If using all scalar values, you must pass an index\"\u001b[0m\u001b[0;34m)\u001b[0m\u001b[0;34m\u001b[0m\u001b[0;34m\u001b[0m\u001b[0m\n\u001b[0m\u001b[1;32m    626\u001b[0m \u001b[0;34m\u001b[0m\u001b[0m\n\u001b[1;32m    627\u001b[0m         \u001b[0;32mif\u001b[0m \u001b[0mhave_series\u001b[0m\u001b[0;34m:\u001b[0m\u001b[0;34m\u001b[0m\u001b[0;34m\u001b[0m\u001b[0m\n",
      "\u001b[0;31mValueError\u001b[0m: If using all scalar values, you must pass an index"
     ]
    }
   ],
   "source": [
    "import pandas as pd \n",
    "dicti = {\"order_id\":10, \"user_id\":\"alice\", \"skill_name\":\"fractions\",\"correct\":1,\"item_id\":\"Q1\",\"subject_id\":\"MATH\"}\n",
    "df = pd.DataFrame(dicti)"
   ]
  },
  {
   "cell_type": "code",
   "execution_count": 11,
   "metadata": {},
   "outputs": [
    {
     "name": "stdout",
     "output_type": "stream",
     "text": [
      "State(StateType.UNMASTERED, {'correct_prediction': 0.028452105443358067, 'state_prediction': 0.0}, Roster(...))\n",
      "State(StateType.UNMASTERED, {'correct_prediction': 0.028452105443358067, 'state_prediction': 0.0}, Roster(...))\n",
      "State(StateType.UNMASTERED, {'correct_prediction': 0.4633449011632891, 'state_prediction': 0.4881341320441835}, Roster(...))\n",
      "State(StateType.UNMASTERED, {'correct_prediction': 0.4633449011632891, 'state_prediction': 0.4881341320441835}, Roster(...))\n",
      "State(StateType.UNMASTERED, {'correct_prediction': 0.4633449011632891, 'state_prediction': 0.4881341320441835}, Roster(...))\n",
      "State(StateType.UNMASTERED, {'correct_prediction': 0.6625575960752863, 'state_prediction': 0.0}, Roster(...))\n",
      "UNMASTERED\n",
      "0.4881341320441835\n",
      "0.4633449011632891\n"
     ]
    }
   ],
   "source": [
    "roster = Roster(students=[\"alice\", \"bob\"], skills =[\"fractions\",\"optics\"] , model=real_model)\n",
    "roster_loaded = Roster(students=[\"alice\", \"bob\"], skills =[\"fractions\",\"optics\"] , model=real_model_loaded)\n",
    "print(roster.get_state(\"fractions\", \"alice\"))\n",
    "print(roster_loaded.get_state(\"fractions\", \"alice\"))\n",
    "print(roster.update_state(\"fractions\", \"alice\", 1))\n",
    "print(roster_loaded.update_state(\"fractions\", \"alice\", 1))\n",
    "state = roster.get_state(\"fractions\", \"alice\")\n",
    "print(roster_loaded.get_state(\"fractions\", \"alice\"))\n",
    "# Guardamos en pickle\n",
    "import pickle\n",
    "with open(\"roaster_model.pkl\", \"wb\") as f:\n",
    "    pickle.dump(roster, f)\n",
    "# Cargamos el modelo\n",
    "with open(\"roaster_model.pkl\", \"rb\") as f:\n",
    "    loaded_roster = pickle.load(f)\n",
    "print(loaded_roster.get_state(\"optics\", \"alice\"))\n",
    "print(state.state_type.name)\n",
    "print(state.current_state[\"state_prediction\"])\n",
    "print(state.current_state[\"correct_prediction\"])\n"
   ]
  }
 ],
 "metadata": {
  "kernelspec": {
   "display_name": "tutorIA",
   "language": "python",
   "name": "python3"
  },
  "language_info": {
   "codemirror_mode": {
    "name": "ipython",
    "version": 3
   },
   "file_extension": ".py",
   "mimetype": "text/x-python",
   "name": "python",
   "nbconvert_exporter": "python",
   "pygments_lexer": "ipython3",
   "version": "3.7.16"
  }
 },
 "nbformat": 4,
 "nbformat_minor": 2
}
