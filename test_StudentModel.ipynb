{
 "cells": [
  {
   "cell_type": "code",
   "execution_count": 1,
   "metadata": {},
   "outputs": [],
   "source": [
    "import pandas as pd\n",
    "from src.student_eval.app.evaluation import models\n",
    "df = pd.DataFrame({\n",
    "    'user_id'   : ['alice','alice','bob','bob']*3,\n",
    "    'skill_name': ['fractions']*6 + ['equations']*6,\n",
    "    'correct'   : [0,1,0,0,  1,1,  1,0,0,1,1,1],\n",
    "    'item_id'   : ['A','B','A','B']*3\n",
    "})\n",
    "df['order_id'] = df.groupby(['user_id','skill_name']).cumcount() + 1\n"
   ]
  },
  {
   "cell_type": "code",
   "execution_count": 2,
   "metadata": {},
   "outputs": [
    {
     "name": "stdout",
     "output_type": "stream",
     "text": [
      "    order_id user_id skill_name  correct item_id\n",
      "0          1   alice  fractions        0       A\n",
      "1          2   alice  fractions        1       B\n",
      "2          1     bob  fractions        0       A\n",
      "3          2     bob  fractions        0       B\n",
      "4          3   alice  fractions        1       A\n",
      "5          4   alice  fractions        1       B\n",
      "6          1     bob  equations        1       A\n",
      "7          2     bob  equations        0       B\n",
      "8          1   alice  equations        0       A\n",
      "9          2   alice  equations        1       B\n",
      "10         3     bob  equations        1       A\n",
      "11         4     bob  equations        1       B\n"
     ]
    }
   ],
   "source": [
    "user_id = df['user_id'].to_list()\n",
    "skill_name = df['skill_name'].to_list()\n",
    "correct = df['correct'].to_list()\n",
    "item_id = df['item_id'].to_list()\n",
    "order_id = df['order_id'].to_list()\n",
    "\n",
    "model=models.StudentModel()\n",
    "results = model.update_dataset(order_id, user_id, skill_name, correct, item_id)"
   ]
  },
  {
   "cell_type": "code",
   "execution_count": 6,
   "metadata": {},
   "outputs": [
    {
     "data": {
      "text/html": [
       "<div>\n",
       "<style scoped>\n",
       "    .dataframe tbody tr th:only-of-type {\n",
       "        vertical-align: middle;\n",
       "    }\n",
       "\n",
       "    .dataframe tbody tr th {\n",
       "        vertical-align: top;\n",
       "    }\n",
       "\n",
       "    .dataframe thead th {\n",
       "        text-align: right;\n",
       "    }\n",
       "</style>\n",
       "<table border=\"1\" class=\"dataframe\">\n",
       "  <thead>\n",
       "    <tr style=\"text-align: right;\">\n",
       "      <th></th>\n",
       "      <th>user_id</th>\n",
       "      <th>equations_learn</th>\n",
       "      <th>fractions_learn</th>\n",
       "      <th>equations_forget</th>\n",
       "      <th>fractions_forget</th>\n",
       "    </tr>\n",
       "  </thead>\n",
       "  <tbody>\n",
       "    <tr>\n",
       "      <th>1</th>\n",
       "      <td>alice</td>\n",
       "      <td>0.18204</td>\n",
       "      <td>0.14653</td>\n",
       "      <td>0.00000</td>\n",
       "      <td>0.00000</td>\n",
       "    </tr>\n",
       "    <tr>\n",
       "      <th>2</th>\n",
       "      <td>bob</td>\n",
       "      <td>0.73968</td>\n",
       "      <td>0.01945</td>\n",
       "      <td>0.00000</td>\n",
       "      <td>0.00000</td>\n",
       "    </tr>\n",
       "  </tbody>\n",
       "</table>\n",
       "</div>"
      ],
      "text/plain": [
       "  user_id  equations_learn  fractions_learn  equations_forget  \\\n",
       "1   alice          0.18204          0.14653           0.00000   \n",
       "2     bob          0.73968          0.01945           0.00000   \n",
       "\n",
       "   fractions_forget  \n",
       "1           0.00000  \n",
       "2           0.00000  "
      ]
     },
     "execution_count": 6,
     "metadata": {},
     "output_type": "execute_result"
    }
   ],
   "source": [
    "results[\"students_states\"]"
   ]
  },
  {
   "cell_type": "code",
   "execution_count": 7,
   "metadata": {},
   "outputs": [
    {
     "data": {
      "text/html": [
       "<div>\n",
       "<style scoped>\n",
       "    .dataframe tbody tr th:only-of-type {\n",
       "        vertical-align: middle;\n",
       "    }\n",
       "\n",
       "    .dataframe tbody tr th {\n",
       "        vertical-align: top;\n",
       "    }\n",
       "\n",
       "    .dataframe thead th {\n",
       "        text-align: right;\n",
       "    }\n",
       "</style>\n",
       "<table border=\"1\" class=\"dataframe\">\n",
       "  <thead>\n",
       "    <tr style=\"text-align: right;\">\n",
       "      <th></th>\n",
       "      <th>skill</th>\n",
       "      <th>prior</th>\n",
       "      <th>learns</th>\n",
       "      <th>guesses</th>\n",
       "      <th>slips</th>\n",
       "      <th>forgets</th>\n",
       "    </tr>\n",
       "  </thead>\n",
       "  <tbody>\n",
       "    <tr>\n",
       "      <th>0</th>\n",
       "      <td>equations</td>\n",
       "      <td>0.00000</td>\n",
       "      <td>0.63193</td>\n",
       "      <td>0.43978</td>\n",
       "      <td>0.10387</td>\n",
       "      <td>0.64113</td>\n",
       "    </tr>\n",
       "    <tr>\n",
       "      <th>1</th>\n",
       "      <td>fractions</td>\n",
       "      <td>0.00000</td>\n",
       "      <td>0.48813</td>\n",
       "      <td>0.02845</td>\n",
       "      <td>0.08062</td>\n",
       "      <td>0.00656</td>\n",
       "    </tr>\n",
       "  </tbody>\n",
       "</table>\n",
       "</div>"
      ],
      "text/plain": [
       "       skill   prior  learns  guesses   slips  forgets\n",
       "0  equations 0.00000 0.63193  0.43978 0.10387  0.64113\n",
       "1  fractions 0.00000 0.48813  0.02845 0.08062  0.00656"
      ]
     },
     "execution_count": 7,
     "metadata": {},
     "output_type": "execute_result"
    }
   ],
   "source": [
    "results[\"skills_states\"]"
   ]
  }
 ],
 "metadata": {
  "kernelspec": {
   "display_name": "tutorIA",
   "language": "python",
   "name": "python3"
  },
  "language_info": {
   "codemirror_mode": {
    "name": "ipython",
    "version": 3
   },
   "file_extension": ".py",
   "mimetype": "text/x-python",
   "name": "python",
   "nbconvert_exporter": "python",
   "pygments_lexer": "ipython3",
   "version": "3.7.16"
  }
 },
 "nbformat": 4,
 "nbformat_minor": 2
}
