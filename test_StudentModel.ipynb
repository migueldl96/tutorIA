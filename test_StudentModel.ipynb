{
 "cells": [
  {
   "cell_type": "code",
   "execution_count": 1,
   "metadata": {},
   "outputs": [],
   "source": [
    "import pandas as pd\n",
    "from src.student_eval.app.evaluation import models\n",
    "df = pd.DataFrame({\n",
    "    'user_id'   : ['alice','alice','bob','bob']*3,\n",
    "    'skill_name': ['fractions']*6 + ['equations']*6,\n",
    "    'correct'   : [0,1,0,0,  1,1,  1,0,0,1,1,1],\n",
    "    'item_id'   : ['A','B','A','B']*3\n",
    "})\n",
    "df['order_id'] = df.groupby(['user_id','skill_name']).cumcount() + 1\n"
   ]
  },
  {
   "cell_type": "code",
   "execution_count": 2,
   "metadata": {},
   "outputs": [
    {
     "name": "stdout",
     "output_type": "stream",
     "text": [
      "   user_id skill_name  correct item_id\n",
      "0    alice  fractions        0       A\n",
      "1    alice  fractions        1       B\n",
      "2      bob  fractions        0       A\n",
      "3      bob  fractions        0       B\n",
      "4    alice  fractions        1       A\n",
      "5    alice  fractions        1       B\n",
      "6      bob  equations        1       A\n",
      "7      bob  equations        0       B\n",
      "8    alice  equations        0       A\n",
      "9    alice  equations        1       B\n",
      "10     bob  equations        1       A\n",
      "11     bob  equations        1       B\n",
      "  user_id  equations_learn  fractions_learn  equations_forget  \\\n",
      "1   alice          0.18204          0.14653           0.00000   \n",
      "2     bob          0.73968          0.01945           0.00000   \n",
      "\n",
      "   fractions_forget  \n",
      "1           0.00000  \n",
      "2           0.00000  \n",
      "       skill   prior  learns  guesses   slips  forgets\n",
      "0  equations 0.00000 0.63193  0.43978 0.10387  0.64113\n",
      "1  fractions 0.00000 0.48813  0.02845 0.08062  0.00656\n"
     ]
    }
   ],
   "source": [
    "user_id = df['user_id'].to_list()\n",
    "skill_name = df['skill_name'].to_list()\n",
    "correct = df['correct'].to_list()\n",
    "item_id = df['item_id'].to_list()\n",
    "order_id = df['order_id'].to_list()\n",
    "\n",
    "model=models.StudentModel()\n",
    "model.csv_path = \"data.csv\"\n",
    "model.model_path = \"model.pkl\"\n",
    "results = model.update_dataset(order_id, user_id, skill_name, correct, item_id)\n",
    "print(results[\"students_states\"])\n",
    "print(results[\"skills_states\"])"
   ]
  },
  {
   "cell_type": "code",
   "execution_count": 3,
   "metadata": {},
   "outputs": [
    {
     "name": "stdout",
     "output_type": "stream",
     "text": [
      "   user_id skill_name  correct item_id\n",
      "0    alice  fractions        0       A\n",
      "1    alice  fractions        1       B\n",
      "2      bob  fractions        0       A\n",
      "3      bob  fractions        0       B\n",
      "4    alice  fractions        1       A\n",
      "5    alice  fractions        1       B\n",
      "6      bob  equations        1       A\n",
      "7      bob  equations        0       B\n",
      "8    alice  equations        0       A\n",
      "9    alice  equations        1       B\n",
      "10     bob  equations        1       A\n",
      "11     bob  equations        1       B\n",
      "                            value\n",
      "skill     param   class          \n",
      "fractions prior   default 0.00000\n",
      "          learns  1       0.07160\n",
      "                  2       1.00000\n",
      "                  Default 0.50473\n",
      "          guesses default 0.00087\n",
      "          slips   default 0.06689\n",
      "          forgets 1       0.00000\n",
      "                  2       0.00000\n",
      "                  Default 0.00000\n",
      "equations prior   default 0.00000\n",
      "          learns  1       0.97836\n",
      "                  2       0.99757\n",
      "                  Default 0.99426\n",
      "          guesses default 0.35446\n",
      "          slips   default 0.09281\n",
      "          forgets 1       0.00000\n",
      "                  2       0.00000\n",
      "                  Default 0.56289\n",
      "  user_id  equations_learn  fractions_learn  equations_forget  \\\n",
      "0       1          0.97836          0.07160           0.00000   \n",
      "1       2          0.99757          1.00000           0.00000   \n",
      "\n",
      "   fractions_forget  \n",
      "0           0.00000  \n",
      "1           0.00000  \n",
      "       skill   prior  learns  guesses   slips  forgets\n",
      "0  equations 0.00000 0.99426  0.35446 0.09281  0.56289\n",
      "1  fractions 0.00000 0.50473  0.00087 0.06689  0.00000\n"
     ]
    }
   ],
   "source": [
    "# order_id = [4, 5, 6]\n",
    "# skill_name = [\"fractions\", \"fractions\", \"fractions\"]\n",
    "# user_id = [\"alice\", \"alice\", \"alice\"]\n",
    "# item_id = [\"A\", \"B\", \"A\"]\n",
    "# correct = [1, 0, 1]\n",
    "results = model.update_dataset(order_id, user_id, skill_name, correct, item_id)\n",
    "print(results[\"students_states\"])\n",
    "print(results[\"skills_states\"])"
   ]
  },
  {
   "cell_type": "code",
   "execution_count": 12,
   "metadata": {},
   "outputs": [
    {
     "name": "stdout",
     "output_type": "stream",
     "text": [
      "— Parámetros tras el primer ajuste —\n",
      "                  value\n",
      "param   class          \n",
      "prior   default 0.10932\n",
      "learns  alice   0.81971\n",
      "        bob     0.32135\n",
      "guesses default 0.05949\n",
      "slips   default 0.40836\n",
      "forgets alice   0.00000\n",
      "        bob     0.00000\n"
     ]
    },
    {
     "ename": "ValueError",
     "evalue": "invalid number of learns in initialization",
     "output_type": "error",
     "traceback": [
      "\u001b[0;31m---------------------------------------------------------------------------\u001b[0m",
      "\u001b[0;31mValueError\u001b[0m                                Traceback (most recent call last)",
      "\u001b[0;32m/tmp/ipykernel_593564/636166389.py\u001b[0m in \u001b[0;36m<module>\u001b[0;34m\u001b[0m\n\u001b[1;32m     42\u001b[0m     \u001b[0;31m# multiprior ='user_id',\u001b[0m\u001b[0;34m\u001b[0m\u001b[0;34m\u001b[0m\u001b[0;34m\u001b[0m\u001b[0m\n\u001b[1;32m     43\u001b[0m     \u001b[0mmultilearn\u001b[0m \u001b[0;34m=\u001b[0m\u001b[0;34m'user_id'\u001b[0m\u001b[0;34m,\u001b[0m\u001b[0;34m\u001b[0m\u001b[0;34m\u001b[0m\u001b[0m\n\u001b[0;32m---> 44\u001b[0;31m     \u001b[0mdefaults\u001b[0m   \u001b[0;34m=\u001b[0m\u001b[0;34m{\u001b[0m\u001b[0;34m'multilearn'\u001b[0m\u001b[0;34m:\u001b[0m\u001b[0;34m'user_id'\u001b[0m\u001b[0;34m,\u001b[0m \u001b[0;34m'multiprior'\u001b[0m\u001b[0;34m:\u001b[0m\u001b[0;34m'user_id'\u001b[0m\u001b[0;34m}\u001b[0m\u001b[0;34m\u001b[0m\u001b[0;34m\u001b[0m\u001b[0m\n\u001b[0m\u001b[1;32m     45\u001b[0m )\n\u001b[1;32m     46\u001b[0m \u001b[0;34m\u001b[0m\u001b[0m\n",
      "\u001b[0;32m~/miniconda3/envs/tutorIA/lib/python3.7/site-packages/pyBKT/models/Model.py\u001b[0m in \u001b[0;36mpartial_fit\u001b[0;34m(self, data_path, data, **kwargs)\u001b[0m\n\u001b[1;32m    110\u001b[0m         \u001b[0;32mfor\u001b[0m \u001b[0mskill\u001b[0m \u001b[0;32min\u001b[0m \u001b[0mall_data\u001b[0m\u001b[0;34m:\u001b[0m\u001b[0;34m\u001b[0m\u001b[0;34m\u001b[0m\u001b[0m\n\u001b[1;32m    111\u001b[0m             self.fit_model[skill] = self._fit(all_data[skill], skill, self.forgets, \n\u001b[0;32m--> 112\u001b[0;31m                                               preload = kwargs['preload'] if 'preload' in kwargs else False)\n\u001b[0m\u001b[1;32m    113\u001b[0m         \u001b[0mself\u001b[0m\u001b[0;34m.\u001b[0m\u001b[0mmanual_param_init\u001b[0m \u001b[0;34m=\u001b[0m \u001b[0;32mFalse\u001b[0m\u001b[0;34m\u001b[0m\u001b[0;34m\u001b[0m\u001b[0m\n\u001b[1;32m    114\u001b[0m \u001b[0;34m\u001b[0m\u001b[0m\n",
      "\u001b[0;32m~/miniconda3/envs/tutorIA/lib/python3.7/site-packages/pyBKT/models/Model.py\u001b[0m in \u001b[0;36m_fit\u001b[0;34m(self, data, skill, forgets, preload)\u001b[0m\n\u001b[1;32m    396\u001b[0m         \u001b[0mnum_learns\u001b[0m \u001b[0;34m=\u001b[0m \u001b[0mlen\u001b[0m\u001b[0;34m(\u001b[0m\u001b[0mdata\u001b[0m\u001b[0;34m[\u001b[0m\u001b[0;34m\"resource_names\"\u001b[0m\u001b[0;34m]\u001b[0m\u001b[0;34m)\u001b[0m\u001b[0;34m\u001b[0m\u001b[0;34m\u001b[0m\u001b[0m\n\u001b[1;32m    397\u001b[0m         \u001b[0mnum_gs\u001b[0m \u001b[0;34m=\u001b[0m \u001b[0mlen\u001b[0m\u001b[0;34m(\u001b[0m\u001b[0mdata\u001b[0m\u001b[0;34m[\u001b[0m\u001b[0;34m\"gs_names\"\u001b[0m\u001b[0;34m]\u001b[0m\u001b[0;34m)\u001b[0m\u001b[0;34m\u001b[0m\u001b[0;34m\u001b[0m\u001b[0m\n\u001b[0;32m--> 398\u001b[0;31m         \u001b[0mself\u001b[0m\u001b[0;34m.\u001b[0m\u001b[0m_check_manual_param_init\u001b[0m\u001b[0;34m(\u001b[0m\u001b[0mnum_learns\u001b[0m\u001b[0;34m,\u001b[0m \u001b[0mnum_gs\u001b[0m\u001b[0;34m,\u001b[0m \u001b[0mskill\u001b[0m\u001b[0;34m)\u001b[0m\u001b[0;34m\u001b[0m\u001b[0;34m\u001b[0m\u001b[0m\n\u001b[0m\u001b[1;32m    399\u001b[0m         \u001b[0;32mif\u001b[0m \u001b[0mhasattr\u001b[0m\u001b[0;34m(\u001b[0m\u001b[0mself\u001b[0m\u001b[0;34m,\u001b[0m \u001b[0;34m\"fixed\"\u001b[0m\u001b[0;34m)\u001b[0m\u001b[0;34m:\u001b[0m\u001b[0;34m\u001b[0m\u001b[0;34m\u001b[0m\u001b[0m\n\u001b[1;32m    400\u001b[0m             \u001b[0mself\u001b[0m\u001b[0;34m.\u001b[0m\u001b[0m_check_fixed\u001b[0m\u001b[0;34m(\u001b[0m\u001b[0mself\u001b[0m\u001b[0;34m)\u001b[0m\u001b[0;34m\u001b[0m\u001b[0;34m\u001b[0m\u001b[0m\n",
      "\u001b[0;32m~/miniconda3/envs/tutorIA/lib/python3.7/site-packages/pyBKT/models/Model.py\u001b[0m in \u001b[0;36m_check_manual_param_init\u001b[0;34m(self, num_learns, num_gs, skill)\u001b[0m\n\u001b[1;32m    542\u001b[0m         \u001b[0;32mif\u001b[0m \u001b[0mself\u001b[0m\u001b[0;34m.\u001b[0m\u001b[0mfit_model\u001b[0m \u001b[0;32mand\u001b[0m \u001b[0mskill\u001b[0m \u001b[0;32min\u001b[0m \u001b[0mself\u001b[0m\u001b[0;34m.\u001b[0m\u001b[0mfit_model\u001b[0m \u001b[0;32mand\u001b[0m \u001b[0;34m'learns'\u001b[0m \u001b[0;32min\u001b[0m \u001b[0mself\u001b[0m\u001b[0;34m.\u001b[0m\u001b[0mfit_model\u001b[0m\u001b[0;34m[\u001b[0m\u001b[0mskill\u001b[0m\u001b[0;34m]\u001b[0m\u001b[0;31m \u001b[0m\u001b[0;31m\\\u001b[0m\u001b[0;34m\u001b[0m\u001b[0;34m\u001b[0m\u001b[0m\n\u001b[1;32m    543\u001b[0m                 \u001b[0;32mand\u001b[0m \u001b[0mlen\u001b[0m\u001b[0;34m(\u001b[0m\u001b[0mself\u001b[0m\u001b[0;34m.\u001b[0m\u001b[0mfit_model\u001b[0m\u001b[0;34m[\u001b[0m\u001b[0mskill\u001b[0m\u001b[0;34m]\u001b[0m\u001b[0;34m[\u001b[0m\u001b[0;34m'learns'\u001b[0m\u001b[0;34m]\u001b[0m\u001b[0;34m)\u001b[0m \u001b[0;34m!=\u001b[0m \u001b[0mnum_learns\u001b[0m\u001b[0;34m:\u001b[0m\u001b[0;34m\u001b[0m\u001b[0;34m\u001b[0m\u001b[0m\n\u001b[0;32m--> 544\u001b[0;31m             \u001b[0;32mraise\u001b[0m \u001b[0mValueError\u001b[0m\u001b[0;34m(\u001b[0m\u001b[0;34m\"invalid number of learns in initialization\"\u001b[0m\u001b[0;34m)\u001b[0m\u001b[0;34m\u001b[0m\u001b[0;34m\u001b[0m\u001b[0m\n\u001b[0m\u001b[1;32m    545\u001b[0m         \u001b[0;32mif\u001b[0m \u001b[0mself\u001b[0m\u001b[0;34m.\u001b[0m\u001b[0mfit_model\u001b[0m \u001b[0;32mand\u001b[0m \u001b[0mskill\u001b[0m \u001b[0;32min\u001b[0m \u001b[0mself\u001b[0m\u001b[0;34m.\u001b[0m\u001b[0mfit_model\u001b[0m \u001b[0;32mand\u001b[0m \u001b[0;34m'guesses'\u001b[0m \u001b[0;32min\u001b[0m \u001b[0mself\u001b[0m\u001b[0;34m.\u001b[0m\u001b[0mfit_model\u001b[0m\u001b[0;34m[\u001b[0m\u001b[0mskill\u001b[0m\u001b[0;34m]\u001b[0m\u001b[0;31m \u001b[0m\u001b[0;31m\\\u001b[0m\u001b[0;34m\u001b[0m\u001b[0;34m\u001b[0m\u001b[0m\n\u001b[1;32m    546\u001b[0m                 \u001b[0;32mand\u001b[0m \u001b[0mlen\u001b[0m\u001b[0;34m(\u001b[0m\u001b[0mself\u001b[0m\u001b[0;34m.\u001b[0m\u001b[0mfit_model\u001b[0m\u001b[0;34m[\u001b[0m\u001b[0mskill\u001b[0m\u001b[0;34m]\u001b[0m\u001b[0;34m[\u001b[0m\u001b[0;34m'guesses'\u001b[0m\u001b[0;34m]\u001b[0m\u001b[0;34m)\u001b[0m \u001b[0;34m!=\u001b[0m \u001b[0mnum_gs\u001b[0m\u001b[0;34m:\u001b[0m\u001b[0;34m\u001b[0m\u001b[0;34m\u001b[0m\u001b[0m\n",
      "\u001b[0;31mValueError\u001b[0m: invalid number of learns in initialization"
     ]
    }
   ],
   "source": [
    "import pandas as pd\n",
    "from pyBKT.models import Model\n",
    "\n",
    "# ──────────────────────────────────────────\n",
    "# 1) Primer lote de interacciones\n",
    "# ──────────────────────────────────────────\n",
    "df_1 = pd.DataFrame({\n",
    "    'user_id'   : ['alice', 'alice', 'bob', 'bob'],\n",
    "    'skill_name': ['fractions']*4,\n",
    "    'correct'   : [0, 1, 0, 0],\n",
    "    'order_id'  : [1, 2, 1, 2]\n",
    "})\n",
    "\n",
    "# Entrenamos un modelo básico: prior por alumno (multiprior)\n",
    "model = Model(seed=0)\n",
    "model.fit(\n",
    "    data=df_1,\n",
    "    skills='fractions',\n",
    "    # multiprior ='user_id',      # prior por alumno\n",
    "    multilearn ='user_id',      # learns / forgets por alumno\n",
    "    defaults   ={'multilearn':'user_id', 'multiprior':'user_id'}\n",
    ")\n",
    "\n",
    "\n",
    "print(\"— Parámetros tras el primer ajuste —\")\n",
    "print(model.params().loc['fractions'])\n",
    "\n",
    "# ──────────────────────────────────────────\n",
    "# 2) Segundo lote: llegan nuevas respuestas\n",
    "# ──────────────────────────────────────────\n",
    "df_2 = pd.DataFrame({\n",
    "    'user_id'   : ['alice', 'bob', 'carol', 'carol'],\n",
    "    'skill_name': ['fractions']*4,\n",
    "    'correct'   : [1, 1, 0, 1],\n",
    "    'order_id'  : [3, 3, 1, 2]   # numeración independiente\n",
    "})\n",
    "\n",
    "\n",
    "model.partial_fit(\n",
    "    data=df_2,\n",
    "    skills='fractions',\n",
    "    # multiprior ='user_id',\n",
    "    multilearn ='user_id',\n",
    "    defaults   ={'multilearn':'user_id', 'multiprior':'user_id'}\n",
    ")\n",
    "\n",
    "print(\"\\n— Parámetros tras partial_fit (lote 1 + lote 2) —\")\n",
    "print(model.params().loc['fractions'])\n"
   ]
  }
 ],
 "metadata": {
  "kernelspec": {
   "display_name": "tutorIA",
   "language": "python",
   "name": "python3"
  },
  "language_info": {
   "codemirror_mode": {
    "name": "ipython",
    "version": 3
   },
   "file_extension": ".py",
   "mimetype": "text/x-python",
   "name": "python",
   "nbconvert_exporter": "python",
   "pygments_lexer": "ipython3",
   "version": "3.7.16"
  }
 },
 "nbformat": 4,
 "nbformat_minor": 2
}
