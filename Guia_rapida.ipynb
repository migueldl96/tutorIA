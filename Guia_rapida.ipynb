{
 "cells": [
  {
   "cell_type": "markdown",
   "metadata": {},
   "source": [
    "# Funcionamiento del modelo de seguimiento de aprendizaje\n",
    "- [Introducción](#introducción)\n",
    "- [Metodología](#metodología)\n",
    "- [Resultados](#resultados)\n",
    "- [Conclusión](#conclusión)"
   ]
  },
  {
   "cell_type": "markdown",
   "metadata": {},
   "source": [
    "## Entrenamiento del modelo base\n",
    "\n",
    "Cargamos y declaramos el modelo de seguimiento de aprendizaje."
   ]
  },
  {
   "cell_type": "code",
   "execution_count": 1,
   "metadata": {},
   "outputs": [],
   "source": [
    "from src.student_eval.app.evaluation.models import StudentModel\n",
    "from pyBKT.models import Model\n",
    "model = StudentModel()"
   ]
  },
  {
   "cell_type": "markdown",
   "metadata": {},
   "source": [
    "Podedmos ver el tipo de datos que necesita para realizar una primera actualización de los datos de usuarios:"
   ]
  },
  {
   "cell_type": "code",
   "execution_count": 2,
   "metadata": {},
   "outputs": [
    {
     "name": "stdout",
     "output_type": "stream",
     "text": [
      "Help on method update_dataset in module src.student_eval.app.evaluation.models:\n",
      "\n",
      "update_dataset(order_id: List[int], user_id: List[str], skill_name: List[str], correct: List[int], item_id: List[str], subject_id: List[str]) method of src.student_eval.app.evaluation.models.StudentModel instance\n",
      "    Actualiza el dataset (de existir) y entrena el modelo.\n",
      "    \n",
      "    Args:\n",
      "        order_id (list[str]): Descripción del índice de orden único de cada pregunta (item_id) respondida por un estudiante. No se puede repetir entre datasets. Ej: numerical_item_id + timestamp.\n",
      "        user_id (list[str]): ID del estudiante.\n",
      "        skill_name (list[str]): Nombre de la habilidad.\n",
      "        correct (list[int]): 1 si la respuesta es correcta, 0 si es incorrecta, -1 si no se ha respondido.\n",
      "        item_id (list[str]): ID de la pregunta. Se puede repetir indicando que se ha hecho varias veces la misma pregunta.\n",
      "    \n",
      "    Returns:\n",
      "        dict: Diccionario con los estados de los estudiantes y habilidades.\n",
      "            - students_states: DataFrame con los estados de los estudiantes.\n",
      "            - skills_states: DataFrame con los estados de las habilidades.\n",
      "\n"
     ]
    }
   ],
   "source": [
    "help(model.update_dataset)"
   ]
  },
  {
   "cell_type": "markdown",
   "metadata": {},
   "source": [
    "Generamos datos de prueba para entrenar el modelo BKT:"
   ]
  },
  {
   "cell_type": "code",
   "execution_count": 2,
   "metadata": {},
   "outputs": [],
   "source": [
    "data = {\"order_id\" : [1, 2, 3, 4, 1, 2, 3, 4, 1, 2, 3, 4],\n",
    "        \"user_id\": [\"Bob\", \"Bob\", \"Bob\", \"Bob\", \"Alice\", \"Alice\", \"Alice\", \"Alice\", \"Charlie\", \"Charlie\", \"Charlie\", \"Charlie\"],\n",
    "        \"skill_name\": [\"equations\", \"equations\", \"lens\", \"lens\", \"lens\", \"algebra\", \"algebra\", \"lens\", \"lens\", \"algebra\", \"algebra\", \"lens\"],\n",
    "        \"correct\": [1, 1, 0, 0, 0, 1, 1, 0, 1, 0, 0, 1],\n",
    "        \"item_id\": [\"EQ1\", \"EQ2\", \"LE1\", \"LE2\", \"LE1\", \"ALG1\",\"ALG2\", \"LE2\",\"LE1\", \"ALG1\",\"ALG2\", \"LE2\"],\n",
    "        \"subject_id\": [\"math\", \"math\", \"physics\", \"physics\",\"physics\", \"math\", \"math\", \"physics\", \"physics\", \"math\", \"math\", \"physics\"],\n",
    "        }"
   ]
  },
  {
   "cell_type": "markdown",
   "metadata": {},
   "source": [
    "Declaramos las rutas de guardado del modelo y los datos de prueba y lo entrenamos con los datos generados:\n"
   ]
  },
  {
   "cell_type": "code",
   "execution_count": 3,
   "metadata": {},
   "outputs": [],
   "source": [
    "# Creamos directorio temporal\n",
    "import os\n",
    "\n",
    "if os.path.exists(\"tmp\"):\n",
    "    # Limpiar el directorio temporal\n",
    "    import shutil\n",
    "    shutil.rmtree(\"tmp\")\n",
    "\n",
    "os.makedirs(\"tmp\", exist_ok=True)\n",
    "os.makedirs(\"tmp/default_csv\", exist_ok=True)\n",
    "os.makedirs(\"tmp/default_model\", exist_ok=True)\n",
    "\n",
    "CSV_PATH =  os.path.join(\"tmp\", \"default_csv\", \"student_eval.csv\")\n",
    "MODEL_PATH = os.path.join(\"tmp\", \"default_model\")\n",
    "\n",
    "\n",
    "\n",
    "# Estas rutas se pueden declarar en models.py para evitar definirlas cada vez \n",
    "model.csv_path = CSV_PATH\n",
    "model.model_path = MODEL_PATH "
   ]
  },
  {
   "cell_type": "code",
   "execution_count": 4,
   "metadata": {},
   "outputs": [],
   "source": [
    "# Entrenamos el modelo con update_dataset\n",
    "results_training = model.update_dataset(**data)"
   ]
  },
  {
   "cell_type": "code",
   "execution_count": 5,
   "metadata": {},
   "outputs": [
    {
     "name": "stdout",
     "output_type": "stream",
     "text": [
      "Resultados iniciales\n",
      "=====================================\n",
      "{'Alice': {'forgets': {'math': {'algebra': 0.0}, 'physics': {'lens': 0.0}},\n",
      "           'learns': {'math': {'algebra': 0.31732635370004325},\n",
      "                      'physics': {'lens': 0.012254688940361948}}},\n",
      " 'Bob': {'forgets': {'math': {'equations': 0.0}, 'physics': {'lens': 0.0}},\n",
      "         'learns': {'math': {'equations': 0.7123999882996016},\n",
      "                    'physics': {'lens': 0.012254688940361948}}},\n",
      " 'Charlie': {'forgets': {'math': {'algebra': 0.0}, 'physics': {'lens': 0.0}},\n",
      "             'learns': {'math': {'algebra': 0.05401202078543974},\n",
      "                        'physics': {'lens': 0.8818434926410905}}}}\n",
      "=====================================\n",
      "{'math': {'algebra': {'forgets': 0.493645049727295,\n",
      "                      'guesses': 0.411640006283352,\n",
      "                      'learns': 0.1558171853015925,\n",
      "                      'prior': 0.0,\n",
      "                      'slips': 0.15369979107280193},\n",
      "          'equations': {'forgets': 0.2327070155603201,\n",
      "                        'guesses': 1.0,\n",
      "                        'learns': 0.7123999882996016,\n",
      "                        'prior': 0.0,\n",
      "                        'slips': 0.0}},\n",
      " 'physics': {'lens': {'forgets': 0.022277345840086765,\n",
      "                      'guesses': 0.04132674148736804,\n",
      "                      'learns': 0.07243669337353882,\n",
      "                      'prior': 0.0,\n",
      "                      'slips': 0.05749783790820006}}}\n"
     ]
    }
   ],
   "source": [
    "import pprint\n",
    "# Resultados iniciales\n",
    "print(\"Resultados iniciales\")\n",
    "print(\"=====================================\")\n",
    "pprint.pprint(results_training[\"students_states\"])\n",
    "print(\"=====================================\")\n",
    "pprint.pprint(results_training[\"skills_states\"])"
   ]
  },
  {
   "cell_type": "markdown",
   "metadata": {},
   "source": [
    "Podemos añadir más datos usando la misma función. Estos se anexionarán a los datos anteriores y se entrenará el modelo con todos los datos."
   ]
  },
  {
   "cell_type": "code",
   "execution_count": 6,
   "metadata": {},
   "outputs": [],
   "source": [
    "new_data = {\"order_id\" : [5, 6, 7, 5, 6, 7, 5, 6, 7],\n",
    "        \"user_id\": [\"Bob\", \"Bob\", \"Bob\", \"Alice\", \"Alice\", \"Alice\", \"Charlie\", \"Charlie\", \"Charlie\"],\n",
    "        \"skill_name\": [\"equations\", \"equations\", \"lens\", \"lens\", \"lens\", \"algebra\", \"circuits\", \"circuits\", \"circuits\"],\n",
    "        \"correct\": [1, 1, 1, 1, 1, 0, 0, 1, 0],\n",
    "        \"item_id\": [\"EQ3\", \"EQ4\", \"LE3\", \"LE3\", \"LE4\", \"ALG3\",\"C1\",\"C2\", \"C3\"],\n",
    "        \"subject_id\": [\"math\", \"math\", \"physics\", \"physics\",\"physics\", \"math\",\"physics\",\"physics\",\"physics\"],\n",
    "        }"
   ]
  },
  {
   "cell_type": "code",
   "execution_count": 7,
   "metadata": {},
   "outputs": [],
   "source": [
    "# Entrenamos el modelo con update_dataset\n",
    "results_training = model.update_dataset(**new_data)"
   ]
  },
  {
   "cell_type": "code",
   "execution_count": 8,
   "metadata": {},
   "outputs": [
    {
     "name": "stdout",
     "output_type": "stream",
     "text": [
      "Resultados actualizados\n",
      "=====================================\n",
      "{'Alice': {'forgets': {'math': {'algebra': 0.0}, 'physics': {'lens': 0.0}},\n",
      "           'learns': {'math': {'algebra': 0.2767342764856434},\n",
      "                      'physics': {'lens': 0.05382961058969178}}},\n",
      " 'Bob': {'forgets': {'math': {'equations': 0.0}, 'physics': {'lens': 0.0}},\n",
      "         'learns': {'math': {'equations': 0.7301626954864259},\n",
      "                    'physics': {'lens': 0.05162563634100992}}},\n",
      " 'Charlie': {'forgets': {'math': {'algebra': 0.0},\n",
      "                         'physics': {'circuits': 0.0, 'lens': 0.0}},\n",
      "             'learns': {'math': {'algebra': 0.06048517256698108},\n",
      "                        'physics': {'circuits': 0.36594456482115256,\n",
      "                                    'lens': 0.8634234532922855}}}}\n",
      "=====================================\n",
      "{'math': {'algebra': {'forgets': 0.7317544528152401,\n",
      "                      'guesses': 0.3399389507232356,\n",
      "                      'learns': 0.1185245610735145,\n",
      "                      'prior': 0.0,\n",
      "                      'slips': 0.2784104029941059},\n",
      "          'equations': {'forgets': 0.21791795232036978,\n",
      "                        'guesses': 1.0,\n",
      "                        'learns': 0.7301626954864258,\n",
      "                        'prior': 0.0,\n",
      "                        'slips': 0.0}},\n",
      " 'physics': {'circuits': {'forgets': 0.4558512018488889,\n",
      "                          'guesses': 0.14320218409302204,\n",
      "                          'learns': 0.6727856875716993,\n",
      "                          'prior': 0.0,\n",
      "                          'slips': 0.49169676908575266},\n",
      "             'lens': {'forgets': 0.026998416078318602,\n",
      "                      'guesses': 0.12421913176860076,\n",
      "                      'learns': 0.4933519956779484,\n",
      "                      'prior': 0.0,\n",
      "                      'slips': 0.10155841427721927}}}\n"
     ]
    }
   ],
   "source": [
    "import pprint\n",
    "# Resultados tras ampliar\n",
    "print(\"Resultados actualizados\")\n",
    "print(\"=====================================\")\n",
    "pprint.pprint(results_training[\"students_states\"])\n",
    "print(\"=====================================\")\n",
    "pprint.pprint(results_training[\"skills_states\"])"
   ]
  },
  {
   "cell_type": "markdown",
   "metadata": {},
   "source": [
    "## Seguimiento en tiempo real"
   ]
  },
  {
   "cell_type": "markdown",
   "metadata": {},
   "source": [
    "Podemos realizar una actualización en tiempo real de un estudiante en base a preguntas para determinadas skills."
   ]
  },
  {
   "cell_type": "code",
   "execution_count": 9,
   "metadata": {},
   "outputs": [
    {
     "name": "stdout",
     "output_type": "stream",
     "text": [
      "{'status': 'ok', 'message': 'Rosters creados/reutilizados por skill', 'roster_paths': {'equations': 'tmp/rte/roster_Bob_equations_lens.pkl', 'lens': 'tmp/rte/roster_Bob_equations_lens.pkl'}}\n"
     ]
    }
   ],
   "source": [
    "# Datos de configuración para la evaluación en tiempo real\n",
    "setup_data = {\"user_id\":\"Bob\",\n",
    "              \"skill_names\":[\"equations\", \"lens\"]}\n",
    "\n",
    "\n",
    "# Asignamos los paths necesarios:\n",
    "evaluation_csv_path_trained = os.path.join(\"tmp\", \"rte_trained\")\n",
    "evaluation_csv_path_non_trained = os.path.join(\"tmp\", \"rte_non_trained\")\n",
    "evaluation_path = os.path.join(\"tmp\", \"rte\")\n",
    "if not os.path.exists(evaluation_csv_path_trained):\n",
    "    os.makedirs(evaluation_csv_path_trained, exist_ok=True)\n",
    "if not os.path.exists(evaluation_csv_path_non_trained):\n",
    "    os.makedirs(evaluation_csv_path_non_trained, exist_ok=True)\n",
    "if not os.path.exists(evaluation_path):\n",
    "    os.makedirs(evaluation_path, exist_ok=True)\n",
    "\n",
    "model.evaluation_csv_path_non_trained = os.path.join(evaluation_csv_path_trained ,\"student_eval_non_trained.csv\")\n",
    "model.evaluation_csv_path_trained = os.path.join(evaluation_csv_path_non_trained, \"student_eval_trained.csv\")\n",
    "model.evaluation_path = evaluation_path\n",
    "\n",
    "\n",
    "# Iniciamos la evaluación en tiempo real\n",
    "response = model.start_real_time_evaluation(**setup_data)\n",
    "print(response)"
   ]
  },
  {
   "cell_type": "code",
   "execution_count": 10,
   "metadata": {},
   "outputs": [
    {
     "name": "stdout",
     "output_type": "stream",
     "text": [
      "Skill:  equations\n",
      "{'state': 'UNMASTERED', 'correct_prob': 1.0, 'state_prob': 0.768072269631725}\n",
      "\n",
      "\n",
      "Skill:  lens\n",
      "{'state': 'UNMASTERED', 'correct_prob': 0.6110895878862552, 'state_prob': 0.6288508601514526}\n",
      "\n",
      "\n",
      "Skill:  equations\n",
      "{'state': 'UNMASTERED', 'correct_prob': 1.0, 'state_prob': 0.7700405101632691}\n",
      "\n",
      "\n",
      "Skill:  lens\n",
      "{'state': 'UNMASTERED', 'correct_prob': 0.8495217882130365, 'state_prob': 0.9368142873409361}\n",
      "\n",
      "\n",
      "Skill:  equations\n",
      "{'state': 'UNMASTERED', 'correct_prob': 1.0, 'state_prob': 0.7701426999366273}\n",
      "\n",
      "\n",
      "Skill:  lens\n",
      "{'state': 'MASTERED', 'correct_prob': 0.8741077901622134, 'state_prob': 0.9685700208818699}\n",
      "\n",
      "\n",
      "Skill:  equations\n",
      "{'state': 'UNMASTERED', 'correct_prob': 1.0, 'state_prob': 0.7701480055634609}\n",
      "\n",
      "\n",
      "Skill:  lens\n",
      "{'state': 'MASTERED', 'correct_prob': 0.8758801455511787, 'state_prob': 0.9708592277886361}\n",
      "\n",
      "\n",
      "Skill:  equations\n",
      "{'state': 'UNMASTERED', 'correct_prob': 1.0, 'state_prob': 0.770148281028169}\n",
      "\n",
      "\n",
      "Skill:  lens\n",
      "{'state': 'MASTERED', 'correct_prob': 0.876004066162892, 'state_prob': 0.9710192859361108}\n",
      "\n",
      "\n",
      "Skill:  equations\n",
      "{'state': 'UNMASTERED', 'correct_prob': 0.9999999999999999, 'state_prob': 0.7701482953301182}\n",
      "\n",
      "\n",
      "Skill:  lens\n",
      "{'state': 'MASTERED', 'correct_prob': 0.8760127117632364, 'state_prob': 0.9710304527529606}\n",
      "\n",
      "\n",
      "Skill:  equations\n",
      "{'state': 'UNMASTERED', 'correct_prob': 1.0, 'state_prob': 0.7701482960726662}\n",
      "\n",
      "\n",
      "Skill:  lens\n",
      "{'state': 'UNMASTERED', 'correct_prob': 0.8015499616424108, 'state_prob': 0.8748529914296388}\n",
      "\n",
      "\n",
      "Skill:  equations\n",
      "{'state': 'UNMASTERED', 'correct_prob': 0.9999999999999999, 'state_prob': 0.7701482961112187}\n",
      "\n",
      "\n",
      "Skill:  lens\n",
      "{'state': 'UNMASTERED', 'correct_prob': 0.6724440394854806, 'state_prob': 0.7080974013565937}\n",
      "\n",
      "\n",
      "Skill:  equations\n",
      "{'state': 'UNMASTERED', 'correct_prob': 1.0, 'state_prob': 0.7701482961132204}\n",
      "\n",
      "\n",
      "Skill:  lens\n",
      "{'state': 'UNMASTERED', 'correct_prob': 0.5877125363159994, 'state_prob': 0.5986566292158055}\n",
      "\n",
      "\n",
      "Skill:  equations\n",
      "{'state': 'UNMASTERED', 'correct_prob': 1.0, 'state_prob': 0.7701482961133244}\n",
      "\n",
      "\n",
      "Skill:  lens\n",
      "{'state': 'UNMASTERED', 'correct_prob': 0.5609458434484247, 'state_prob': 0.5640842750676285}\n",
      "\n",
      "\n"
     ]
    }
   ],
   "source": [
    "import numpy as np\n",
    "\n",
    "# Preparamos para la generación de respuestas ficticias\n",
    "order_id_init_le = 8\n",
    "order_id_init_eq = 8\n",
    "user_id = \"Bob\"\n",
    "item_id_base_eq = \"EQ\"\n",
    "item_id_base_le = \"LE\"\n",
    "n_item_eq = 5\n",
    "n_item_le = 5\n",
    "subject_id_eq = \"math\"\n",
    "subject_id_le = \"physics\"\n",
    "# corrects = [1, 0, 1, 1, 1, 0, 1, -1 ,1 ,1, 1, 1, 1, 1, 1, 1, 1, 1]\n",
    "n_tries = 20\n",
    "for i in range(n_tries):\n",
    "  if i % 2 == 0:\n",
    "    order_id = order_id_init_eq + i\n",
    "    item_id = item_id_base_eq + str(n_item_eq)\n",
    "    subject_id = subject_id_eq\n",
    "    skill_name = \"equations\"\n",
    "    roster_path = response[\"roster_paths\"][\"equations\"]\n",
    "    n_item_eq += 1\n",
    "  else:\n",
    "    order_id = order_id_init_le + i\n",
    "    item_id = item_id_base_le + str(n_item_le)\n",
    "    subject_id = subject_id_le\n",
    "    skill_name = \"lens\"\n",
    "    roster_path = response[\"roster_paths\"][\"lens\"]\n",
    "    n_item_le += 1\n",
    "  # Generamos una respuesta ficticia\n",
    "  correct = np.random.randint(2)\n",
    "  studentresult = model.real_time_evaluation(\n",
    "      order_id=order_id,\n",
    "      user_id=user_id,\n",
    "      skill_name=skill_name,\n",
    "      correct=correct,\n",
    "      item_id=item_id,\n",
    "      subject_id=subject_id,\n",
    "      roster_path=roster_path,\n",
    "  )\n",
    "  print(\"Skill: \", skill_name)\n",
    "  print(studentresult)\n",
    "  print(\"\\n\")\n",
    "  "
   ]
  },
  {
   "cell_type": "markdown",
   "metadata": {},
   "source": [
    "Podemos actualizar el modelo con los nuevos datos generados."
   ]
  },
  {
   "cell_type": "code",
   "execution_count": 11,
   "metadata": {},
   "outputs": [
    {
     "data": {
      "text/plain": [
       "{'students_states': {'Alice': {'learns': {'physics': {'lens': 0.008973475260650598},\n",
       "    'math': {'algebra': 0.2767342764856434}},\n",
       "   'forgets': {'physics': {'lens': 0.0}, 'math': {'algebra': 0.0}}},\n",
       "  'Bob': {'learns': {'physics': {'lens': 0.008997797383850068},\n",
       "    'math': {'equations': 0.7150025154969799}},\n",
       "   'forgets': {'physics': {'lens': 0.0}, 'math': {'equations': 0.0}}},\n",
       "  'Charlie': {'learns': {'physics': {'lens': 0.9272402185371594,\n",
       "     'circuits': 0.36594456482115256},\n",
       "    'math': {'algebra': 0.06048517256698108}},\n",
       "   'forgets': {'physics': {'lens': 0.0, 'circuits': 0.0},\n",
       "    'math': {'algebra': 0.0}}}},\n",
       " 'skills_states': {'math': {'algebra': {'prior': 0.0,\n",
       "    'learns': 0.1185245610735145,\n",
       "    'guesses': 0.3399389507232356,\n",
       "    'slips': 0.2784104029941059,\n",
       "    'forgets': 0.7317544528152401},\n",
       "   'equations': {'prior': 0.0,\n",
       "    'learns': 0.3890535306106614,\n",
       "    'guesses': 0.3275298845691227,\n",
       "    'slips': 0.01115313929337402,\n",
       "    'forgets': 0.47546158030702645}},\n",
       "  'physics': {'circuits': {'prior': 0.0,\n",
       "    'learns': 0.6727856875716993,\n",
       "    'guesses': 0.14320218409302204,\n",
       "    'slips': 0.49169676908575266,\n",
       "    'forgets': 0.4558512018488889},\n",
       "   'lens': {'prior': 0.0,\n",
       "    'learns': 0.29755949671220217,\n",
       "    'guesses': 0.04251298274295152,\n",
       "    'slips': 0.024221724661699907,\n",
       "    'forgets': 0.11906475377083846}}}}"
      ]
     },
     "execution_count": 11,
     "metadata": {},
     "output_type": "execute_result"
    }
   ],
   "source": [
    "model.update_dataset_evaluation()"
   ]
  }
 ],
 "metadata": {
  "kernelspec": {
   "display_name": "tutorIA",
   "language": "python",
   "name": "python3"
  },
  "language_info": {
   "codemirror_mode": {
    "name": "ipython",
    "version": 3
   },
   "file_extension": ".py",
   "mimetype": "text/x-python",
   "name": "python",
   "nbconvert_exporter": "python",
   "pygments_lexer": "ipython3",
   "version": "3.7.16"
  }
 },
 "nbformat": 4,
 "nbformat_minor": 2
}
